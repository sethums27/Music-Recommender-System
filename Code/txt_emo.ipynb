{
  "nbformat": 4,
  "nbformat_minor": 0,
  "metadata": {
    "colab": {
      "provenance": []
    },
    "kernelspec": {
      "name": "python3",
      "display_name": "Python 3"
    },
    "language_info": {
      "name": "python"
    }
  },
  "cells": [
    {
      "cell_type": "code",
      "source": [
        "%cd \"/content/drive/MyDrive/main-project\""
      ],
      "metadata": {
        "colab": {
          "base_uri": "https://localhost:8080/"
        },
        "id": "s0YOnhrpAwz9",
        "outputId": "fcd3580a-aad9-4767-cb67-b47e183531f5"
      },
      "execution_count": null,
      "outputs": [
        {
          "output_type": "stream",
          "name": "stdout",
          "text": [
            "/content/drive/MyDrive/main-project\n"
          ]
        }
      ]
    },
    {
      "cell_type": "code",
      "execution_count": null,
      "metadata": {
        "id": "jX2CrfsZfS5r"
      },
      "outputs": [],
      "source": [
        "import pandas as pd\n",
        "from nltk.corpus import stopwords\n",
        "from nltk.stem.porter import PorterStemmer\n",
        "import re"
      ]
    },
    {
      "cell_type": "code",
      "source": [
        "data = pd.read_csv(\"datasets/tweet/tweet_emotions.csv\")"
      ],
      "metadata": {
        "id": "mWlPILfcAuJb"
      },
      "execution_count": null,
      "outputs": []
    },
    {
      "cell_type": "code",
      "source": [
        "data"
      ],
      "metadata": {
        "colab": {
          "base_uri": "https://localhost:8080/",
          "height": 423
        },
        "id": "cv6-LABFDfK6",
        "outputId": "0acb5a14-5c73-4a1e-d58e-efa584891ed0"
      },
      "execution_count": null,
      "outputs": [
        {
          "output_type": "execute_result",
          "data": {
            "text/plain": [
              "         tweet_id sentiment                                            content\n",
              "0      1956967666       sad  Layin n bed with a headache  ughhhh...waitin o...\n",
              "1      1956967696       sad                Funeral ceremony...gloomy friday...\n",
              "2      1956968416   neutral  @dannycastillo We want to trade with someone w...\n",
              "3      1956968477      fear  Re-pinging @ghostridah14: why didn't you go to...\n",
              "4      1956968487       sad  I should be sleep, but im not! thinking about ...\n",
              "...           ...       ...                                                ...\n",
              "31086  1753918881   neutral  @jasimmo Ooo showing of your French skills!! l...\n",
              "31087  1753918892   neutral  @sendsome2me haha, yeah. Twitter has many uses...\n",
              "31088  1753918900     happy                      Succesfully following Tayla!!\n",
              "31089  1753918954   neutral                                   @JohnLloydTaylor\n",
              "31090  1753919043     happy  @niariley WASSUP BEAUTIFUL!!! FOLLOW ME!!  PEE...\n",
              "\n",
              "[31091 rows x 3 columns]"
            ],
            "text/html": [
              "\n",
              "  <div id=\"df-3ad7b9bd-db94-4b24-b917-5b3b4149c3f7\">\n",
              "    <div class=\"colab-df-container\">\n",
              "      <div>\n",
              "<style scoped>\n",
              "    .dataframe tbody tr th:only-of-type {\n",
              "        vertical-align: middle;\n",
              "    }\n",
              "\n",
              "    .dataframe tbody tr th {\n",
              "        vertical-align: top;\n",
              "    }\n",
              "\n",
              "    .dataframe thead th {\n",
              "        text-align: right;\n",
              "    }\n",
              "</style>\n",
              "<table border=\"1\" class=\"dataframe\">\n",
              "  <thead>\n",
              "    <tr style=\"text-align: right;\">\n",
              "      <th></th>\n",
              "      <th>tweet_id</th>\n",
              "      <th>sentiment</th>\n",
              "      <th>content</th>\n",
              "    </tr>\n",
              "  </thead>\n",
              "  <tbody>\n",
              "    <tr>\n",
              "      <th>0</th>\n",
              "      <td>1956967666</td>\n",
              "      <td>sad</td>\n",
              "      <td>Layin n bed with a headache  ughhhh...waitin o...</td>\n",
              "    </tr>\n",
              "    <tr>\n",
              "      <th>1</th>\n",
              "      <td>1956967696</td>\n",
              "      <td>sad</td>\n",
              "      <td>Funeral ceremony...gloomy friday...</td>\n",
              "    </tr>\n",
              "    <tr>\n",
              "      <th>2</th>\n",
              "      <td>1956968416</td>\n",
              "      <td>neutral</td>\n",
              "      <td>@dannycastillo We want to trade with someone w...</td>\n",
              "    </tr>\n",
              "    <tr>\n",
              "      <th>3</th>\n",
              "      <td>1956968477</td>\n",
              "      <td>fear</td>\n",
              "      <td>Re-pinging @ghostridah14: why didn't you go to...</td>\n",
              "    </tr>\n",
              "    <tr>\n",
              "      <th>4</th>\n",
              "      <td>1956968487</td>\n",
              "      <td>sad</td>\n",
              "      <td>I should be sleep, but im not! thinking about ...</td>\n",
              "    </tr>\n",
              "    <tr>\n",
              "      <th>...</th>\n",
              "      <td>...</td>\n",
              "      <td>...</td>\n",
              "      <td>...</td>\n",
              "    </tr>\n",
              "    <tr>\n",
              "      <th>31086</th>\n",
              "      <td>1753918881</td>\n",
              "      <td>neutral</td>\n",
              "      <td>@jasimmo Ooo showing of your French skills!! l...</td>\n",
              "    </tr>\n",
              "    <tr>\n",
              "      <th>31087</th>\n",
              "      <td>1753918892</td>\n",
              "      <td>neutral</td>\n",
              "      <td>@sendsome2me haha, yeah. Twitter has many uses...</td>\n",
              "    </tr>\n",
              "    <tr>\n",
              "      <th>31088</th>\n",
              "      <td>1753918900</td>\n",
              "      <td>happy</td>\n",
              "      <td>Succesfully following Tayla!!</td>\n",
              "    </tr>\n",
              "    <tr>\n",
              "      <th>31089</th>\n",
              "      <td>1753918954</td>\n",
              "      <td>neutral</td>\n",
              "      <td>@JohnLloydTaylor</td>\n",
              "    </tr>\n",
              "    <tr>\n",
              "      <th>31090</th>\n",
              "      <td>1753919043</td>\n",
              "      <td>happy</td>\n",
              "      <td>@niariley WASSUP BEAUTIFUL!!! FOLLOW ME!!  PEE...</td>\n",
              "    </tr>\n",
              "  </tbody>\n",
              "</table>\n",
              "<p>31091 rows × 3 columns</p>\n",
              "</div>\n",
              "      <button class=\"colab-df-convert\" onclick=\"convertToInteractive('df-3ad7b9bd-db94-4b24-b917-5b3b4149c3f7')\"\n",
              "              title=\"Convert this dataframe to an interactive table.\"\n",
              "              style=\"display:none;\">\n",
              "        \n",
              "  <svg xmlns=\"http://www.w3.org/2000/svg\" height=\"24px\"viewBox=\"0 0 24 24\"\n",
              "       width=\"24px\">\n",
              "    <path d=\"M0 0h24v24H0V0z\" fill=\"none\"/>\n",
              "    <path d=\"M18.56 5.44l.94 2.06.94-2.06 2.06-.94-2.06-.94-.94-2.06-.94 2.06-2.06.94zm-11 1L8.5 8.5l.94-2.06 2.06-.94-2.06-.94L8.5 2.5l-.94 2.06-2.06.94zm10 10l.94 2.06.94-2.06 2.06-.94-2.06-.94-.94-2.06-.94 2.06-2.06.94z\"/><path d=\"M17.41 7.96l-1.37-1.37c-.4-.4-.92-.59-1.43-.59-.52 0-1.04.2-1.43.59L10.3 9.45l-7.72 7.72c-.78.78-.78 2.05 0 2.83L4 21.41c.39.39.9.59 1.41.59.51 0 1.02-.2 1.41-.59l7.78-7.78 2.81-2.81c.8-.78.8-2.07 0-2.86zM5.41 20L4 18.59l7.72-7.72 1.47 1.35L5.41 20z\"/>\n",
              "  </svg>\n",
              "      </button>\n",
              "      \n",
              "  <style>\n",
              "    .colab-df-container {\n",
              "      display:flex;\n",
              "      flex-wrap:wrap;\n",
              "      gap: 12px;\n",
              "    }\n",
              "\n",
              "    .colab-df-convert {\n",
              "      background-color: #E8F0FE;\n",
              "      border: none;\n",
              "      border-radius: 50%;\n",
              "      cursor: pointer;\n",
              "      display: none;\n",
              "      fill: #1967D2;\n",
              "      height: 32px;\n",
              "      padding: 0 0 0 0;\n",
              "      width: 32px;\n",
              "    }\n",
              "\n",
              "    .colab-df-convert:hover {\n",
              "      background-color: #E2EBFA;\n",
              "      box-shadow: 0px 1px 2px rgba(60, 64, 67, 0.3), 0px 1px 3px 1px rgba(60, 64, 67, 0.15);\n",
              "      fill: #174EA6;\n",
              "    }\n",
              "\n",
              "    [theme=dark] .colab-df-convert {\n",
              "      background-color: #3B4455;\n",
              "      fill: #D2E3FC;\n",
              "    }\n",
              "\n",
              "    [theme=dark] .colab-df-convert:hover {\n",
              "      background-color: #434B5C;\n",
              "      box-shadow: 0px 1px 3px 1px rgba(0, 0, 0, 0.15);\n",
              "      filter: drop-shadow(0px 1px 2px rgba(0, 0, 0, 0.3));\n",
              "      fill: #FFFFFF;\n",
              "    }\n",
              "  </style>\n",
              "\n",
              "      <script>\n",
              "        const buttonEl =\n",
              "          document.querySelector('#df-3ad7b9bd-db94-4b24-b917-5b3b4149c3f7 button.colab-df-convert');\n",
              "        buttonEl.style.display =\n",
              "          google.colab.kernel.accessAllowed ? 'block' : 'none';\n",
              "\n",
              "        async function convertToInteractive(key) {\n",
              "          const element = document.querySelector('#df-3ad7b9bd-db94-4b24-b917-5b3b4149c3f7');\n",
              "          const dataTable =\n",
              "            await google.colab.kernel.invokeFunction('convertToInteractive',\n",
              "                                                     [key], {});\n",
              "          if (!dataTable) return;\n",
              "\n",
              "          const docLinkHtml = 'Like what you see? Visit the ' +\n",
              "            '<a target=\"_blank\" href=https://colab.research.google.com/notebooks/data_table.ipynb>data table notebook</a>'\n",
              "            + ' to learn more about interactive tables.';\n",
              "          element.innerHTML = '';\n",
              "          dataTable['output_type'] = 'display_data';\n",
              "          await google.colab.output.renderOutput(dataTable, element);\n",
              "          const docLink = document.createElement('div');\n",
              "          docLink.innerHTML = docLinkHtml;\n",
              "          element.appendChild(docLink);\n",
              "        }\n",
              "      </script>\n",
              "    </div>\n",
              "  </div>\n",
              "  "
            ]
          },
          "metadata": {},
          "execution_count": 4
        }
      ]
    },
    {
      "cell_type": "code",
      "source": [
        "data.drop('tweet_id',axis=1,inplace=True)"
      ],
      "metadata": {
        "id": "5jPcioPQDhRr"
      },
      "execution_count": null,
      "outputs": []
    },
    {
      "cell_type": "code",
      "source": [
        "data.value_counts('sentiment')"
      ],
      "metadata": {
        "colab": {
          "base_uri": "https://localhost:8080/"
        },
        "id": "k97uB7gUA6L1",
        "outputId": "d81aa2f0-abe6-4df8-94a3-ac9ce984434b"
      },
      "execution_count": null,
      "outputs": [
        {
          "output_type": "execute_result",
          "data": {
            "text/plain": [
              "sentiment\n",
              "neutral     8638\n",
              "fear        8459\n",
              "happy       5209\n",
              "sad         5165\n",
              "surprise    2187\n",
              "disgust     1323\n",
              "angry        110\n",
              "dtype: int64"
            ]
          },
          "metadata": {},
          "execution_count": 6
        }
      ]
    },
    {
      "cell_type": "code",
      "source": [
        "idx = data[(data['sentiment']=='disgust') | (data['sentiment']=='fear') | (data['sentiment']=='angry') | (data['sentiment']=='surprise')].index"
      ],
      "metadata": {
        "id": "VCJzn8f1A_gc"
      },
      "execution_count": null,
      "outputs": []
    },
    {
      "cell_type": "code",
      "source": [
        "idx"
      ],
      "metadata": {
        "colab": {
          "base_uri": "https://localhost:8080/"
        },
        "id": "6sIt97aMC2nc",
        "outputId": "0fbf031b-61d9-41bc-b904-8d66660ecb4c"
      },
      "execution_count": null,
      "outputs": [
        {
          "output_type": "execute_result",
          "data": {
            "text/plain": [
              "Int64Index([    3,     5,     9,    12,    15,    17,    19,    21,    23,\n",
              "               25,\n",
              "            ...\n",
              "            31047, 31050, 31051, 31053, 31058, 31060, 31072, 31073, 31074,\n",
              "            31079],\n",
              "           dtype='int64', length=12079)"
            ]
          },
          "metadata": {},
          "execution_count": 8
        }
      ]
    },
    {
      "cell_type": "code",
      "source": [
        "data.drop(idx , inplace=True)"
      ],
      "metadata": {
        "id": "KchKMXK-B25N"
      },
      "execution_count": null,
      "outputs": []
    },
    {
      "cell_type": "code",
      "source": [
        "data"
      ],
      "metadata": {
        "colab": {
          "base_uri": "https://localhost:8080/",
          "height": 423
        },
        "id": "O1YLaUwYCyVT",
        "outputId": "a958a4ae-337c-4755-eff0-95b760759444"
      },
      "execution_count": null,
      "outputs": [
        {
          "output_type": "execute_result",
          "data": {
            "text/plain": [
              "      sentiment                                            content\n",
              "0           sad  Layin n bed with a headache  ughhhh...waitin o...\n",
              "1           sad                Funeral ceremony...gloomy friday...\n",
              "2       neutral  @dannycastillo We want to trade with someone w...\n",
              "4           sad  I should be sleep, but im not! thinking about ...\n",
              "6           sad            @charviray Charlene my love. I miss you\n",
              "...         ...                                                ...\n",
              "31086   neutral  @jasimmo Ooo showing of your French skills!! l...\n",
              "31087   neutral  @sendsome2me haha, yeah. Twitter has many uses...\n",
              "31088     happy                      Succesfully following Tayla!!\n",
              "31089   neutral                                   @JohnLloydTaylor\n",
              "31090     happy  @niariley WASSUP BEAUTIFUL!!! FOLLOW ME!!  PEE...\n",
              "\n",
              "[19012 rows x 2 columns]"
            ],
            "text/html": [
              "\n",
              "  <div id=\"df-78e249ef-3486-4d87-9465-c72d82905fcf\">\n",
              "    <div class=\"colab-df-container\">\n",
              "      <div>\n",
              "<style scoped>\n",
              "    .dataframe tbody tr th:only-of-type {\n",
              "        vertical-align: middle;\n",
              "    }\n",
              "\n",
              "    .dataframe tbody tr th {\n",
              "        vertical-align: top;\n",
              "    }\n",
              "\n",
              "    .dataframe thead th {\n",
              "        text-align: right;\n",
              "    }\n",
              "</style>\n",
              "<table border=\"1\" class=\"dataframe\">\n",
              "  <thead>\n",
              "    <tr style=\"text-align: right;\">\n",
              "      <th></th>\n",
              "      <th>sentiment</th>\n",
              "      <th>content</th>\n",
              "    </tr>\n",
              "  </thead>\n",
              "  <tbody>\n",
              "    <tr>\n",
              "      <th>0</th>\n",
              "      <td>sad</td>\n",
              "      <td>Layin n bed with a headache  ughhhh...waitin o...</td>\n",
              "    </tr>\n",
              "    <tr>\n",
              "      <th>1</th>\n",
              "      <td>sad</td>\n",
              "      <td>Funeral ceremony...gloomy friday...</td>\n",
              "    </tr>\n",
              "    <tr>\n",
              "      <th>2</th>\n",
              "      <td>neutral</td>\n",
              "      <td>@dannycastillo We want to trade with someone w...</td>\n",
              "    </tr>\n",
              "    <tr>\n",
              "      <th>4</th>\n",
              "      <td>sad</td>\n",
              "      <td>I should be sleep, but im not! thinking about ...</td>\n",
              "    </tr>\n",
              "    <tr>\n",
              "      <th>6</th>\n",
              "      <td>sad</td>\n",
              "      <td>@charviray Charlene my love. I miss you</td>\n",
              "    </tr>\n",
              "    <tr>\n",
              "      <th>...</th>\n",
              "      <td>...</td>\n",
              "      <td>...</td>\n",
              "    </tr>\n",
              "    <tr>\n",
              "      <th>31086</th>\n",
              "      <td>neutral</td>\n",
              "      <td>@jasimmo Ooo showing of your French skills!! l...</td>\n",
              "    </tr>\n",
              "    <tr>\n",
              "      <th>31087</th>\n",
              "      <td>neutral</td>\n",
              "      <td>@sendsome2me haha, yeah. Twitter has many uses...</td>\n",
              "    </tr>\n",
              "    <tr>\n",
              "      <th>31088</th>\n",
              "      <td>happy</td>\n",
              "      <td>Succesfully following Tayla!!</td>\n",
              "    </tr>\n",
              "    <tr>\n",
              "      <th>31089</th>\n",
              "      <td>neutral</td>\n",
              "      <td>@JohnLloydTaylor</td>\n",
              "    </tr>\n",
              "    <tr>\n",
              "      <th>31090</th>\n",
              "      <td>happy</td>\n",
              "      <td>@niariley WASSUP BEAUTIFUL!!! FOLLOW ME!!  PEE...</td>\n",
              "    </tr>\n",
              "  </tbody>\n",
              "</table>\n",
              "<p>19012 rows × 2 columns</p>\n",
              "</div>\n",
              "      <button class=\"colab-df-convert\" onclick=\"convertToInteractive('df-78e249ef-3486-4d87-9465-c72d82905fcf')\"\n",
              "              title=\"Convert this dataframe to an interactive table.\"\n",
              "              style=\"display:none;\">\n",
              "        \n",
              "  <svg xmlns=\"http://www.w3.org/2000/svg\" height=\"24px\"viewBox=\"0 0 24 24\"\n",
              "       width=\"24px\">\n",
              "    <path d=\"M0 0h24v24H0V0z\" fill=\"none\"/>\n",
              "    <path d=\"M18.56 5.44l.94 2.06.94-2.06 2.06-.94-2.06-.94-.94-2.06-.94 2.06-2.06.94zm-11 1L8.5 8.5l.94-2.06 2.06-.94-2.06-.94L8.5 2.5l-.94 2.06-2.06.94zm10 10l.94 2.06.94-2.06 2.06-.94-2.06-.94-.94-2.06-.94 2.06-2.06.94z\"/><path d=\"M17.41 7.96l-1.37-1.37c-.4-.4-.92-.59-1.43-.59-.52 0-1.04.2-1.43.59L10.3 9.45l-7.72 7.72c-.78.78-.78 2.05 0 2.83L4 21.41c.39.39.9.59 1.41.59.51 0 1.02-.2 1.41-.59l7.78-7.78 2.81-2.81c.8-.78.8-2.07 0-2.86zM5.41 20L4 18.59l7.72-7.72 1.47 1.35L5.41 20z\"/>\n",
              "  </svg>\n",
              "      </button>\n",
              "      \n",
              "  <style>\n",
              "    .colab-df-container {\n",
              "      display:flex;\n",
              "      flex-wrap:wrap;\n",
              "      gap: 12px;\n",
              "    }\n",
              "\n",
              "    .colab-df-convert {\n",
              "      background-color: #E8F0FE;\n",
              "      border: none;\n",
              "      border-radius: 50%;\n",
              "      cursor: pointer;\n",
              "      display: none;\n",
              "      fill: #1967D2;\n",
              "      height: 32px;\n",
              "      padding: 0 0 0 0;\n",
              "      width: 32px;\n",
              "    }\n",
              "\n",
              "    .colab-df-convert:hover {\n",
              "      background-color: #E2EBFA;\n",
              "      box-shadow: 0px 1px 2px rgba(60, 64, 67, 0.3), 0px 1px 3px 1px rgba(60, 64, 67, 0.15);\n",
              "      fill: #174EA6;\n",
              "    }\n",
              "\n",
              "    [theme=dark] .colab-df-convert {\n",
              "      background-color: #3B4455;\n",
              "      fill: #D2E3FC;\n",
              "    }\n",
              "\n",
              "    [theme=dark] .colab-df-convert:hover {\n",
              "      background-color: #434B5C;\n",
              "      box-shadow: 0px 1px 3px 1px rgba(0, 0, 0, 0.15);\n",
              "      filter: drop-shadow(0px 1px 2px rgba(0, 0, 0, 0.3));\n",
              "      fill: #FFFFFF;\n",
              "    }\n",
              "  </style>\n",
              "\n",
              "      <script>\n",
              "        const buttonEl =\n",
              "          document.querySelector('#df-78e249ef-3486-4d87-9465-c72d82905fcf button.colab-df-convert');\n",
              "        buttonEl.style.display =\n",
              "          google.colab.kernel.accessAllowed ? 'block' : 'none';\n",
              "\n",
              "        async function convertToInteractive(key) {\n",
              "          const element = document.querySelector('#df-78e249ef-3486-4d87-9465-c72d82905fcf');\n",
              "          const dataTable =\n",
              "            await google.colab.kernel.invokeFunction('convertToInteractive',\n",
              "                                                     [key], {});\n",
              "          if (!dataTable) return;\n",
              "\n",
              "          const docLinkHtml = 'Like what you see? Visit the ' +\n",
              "            '<a target=\"_blank\" href=https://colab.research.google.com/notebooks/data_table.ipynb>data table notebook</a>'\n",
              "            + ' to learn more about interactive tables.';\n",
              "          element.innerHTML = '';\n",
              "          dataTable['output_type'] = 'display_data';\n",
              "          await google.colab.output.renderOutput(dataTable, element);\n",
              "          const docLink = document.createElement('div');\n",
              "          docLink.innerHTML = docLinkHtml;\n",
              "          element.appendChild(docLink);\n",
              "        }\n",
              "      </script>\n",
              "    </div>\n",
              "  </div>\n",
              "  "
            ]
          },
          "metadata": {},
          "execution_count": 10
        }
      ]
    },
    {
      "cell_type": "code",
      "source": [
        "data.value_counts('sentiment')"
      ],
      "metadata": {
        "colab": {
          "base_uri": "https://localhost:8080/"
        },
        "id": "53kUpKJEDGwh",
        "outputId": "64d98185-b258-4ae7-9022-dba2e8e1d625"
      },
      "execution_count": null,
      "outputs": [
        {
          "output_type": "execute_result",
          "data": {
            "text/plain": [
              "sentiment\n",
              "neutral    8638\n",
              "happy      5209\n",
              "sad        5165\n",
              "dtype: int64"
            ]
          },
          "metadata": {},
          "execution_count": 11
        }
      ]
    },
    {
      "cell_type": "code",
      "source": [
        "#text preprocessing\n",
        "ps = PorterStemmer()\n",
        "\n",
        "def preprocess(line):\n",
        "    review = re.sub('[^a-zA-Z]', ' ', line) #leave only characters from a to z\n",
        "    review = review.lower() #lower the text\n",
        "    review = review.split() #turn string into list of words\n",
        "    #apply Stemming \n",
        "    review = [ps.stem(word) for word in review if not word in stopwords.words('english')] #delete stop words like I, and ,OR   review = ' '.join(review)\n",
        "    #trun list into sentences\n",
        "    return \" \".join(review)"
      ],
      "metadata": {
        "id": "MDv9aKeoDIjb"
      },
      "execution_count": null,
      "outputs": []
    },
    {
      "cell_type": "code",
      "source": [
        "import nltk\n",
        "nltk.download('stopwords')\n",
        "data['content']=data['content'].apply(lambda x: preprocess(x))"
      ],
      "metadata": {
        "colab": {
          "base_uri": "https://localhost:8080/"
        },
        "id": "13sLVRmsDR5H",
        "outputId": "bf790e38-d5e7-479e-befc-853c3cded353"
      },
      "execution_count": null,
      "outputs": [
        {
          "output_type": "stream",
          "name": "stderr",
          "text": [
            "[nltk_data] Downloading package stopwords to /root/nltk_data...\n",
            "[nltk_data]   Unzipping corpora/stopwords.zip.\n"
          ]
        }
      ]
    },
    {
      "cell_type": "code",
      "source": [
        "data"
      ],
      "metadata": {
        "colab": {
          "base_uri": "https://localhost:8080/",
          "height": 423
        },
        "id": "PrpFRlCED-Mi",
        "outputId": "d59576e5-746c-4898-85e3-834deed6d199"
      },
      "execution_count": null,
      "outputs": [
        {
          "output_type": "execute_result",
          "data": {
            "text/plain": [
              "      sentiment                                            content\n",
              "0           sad             layin n bed headach ughhhh waitin call\n",
              "1           sad                       funer ceremoni gloomi friday\n",
              "2       neutral  dannycastillo want trade someon houston ticket...\n",
              "4           sad  sleep im think old friend want marri damn amp ...\n",
              "6           sad                        charviray charlen love miss\n",
              "...         ...                                                ...\n",
              "31086   neutral  jasimmo ooo show french skill lol thing good l...\n",
              "31087   neutral   sendsom haha yeah twitter mani use know ppl care\n",
              "31088     happy                                succes follow tayla\n",
              "31089   neutral                                    johnlloydtaylor\n",
              "31090     happy  niariley wassup beauti follow peep new hit sin...\n",
              "\n",
              "[19012 rows x 2 columns]"
            ],
            "text/html": [
              "\n",
              "  <div id=\"df-59d02eec-b8ef-4ce8-bebf-c3b090beaf47\">\n",
              "    <div class=\"colab-df-container\">\n",
              "      <div>\n",
              "<style scoped>\n",
              "    .dataframe tbody tr th:only-of-type {\n",
              "        vertical-align: middle;\n",
              "    }\n",
              "\n",
              "    .dataframe tbody tr th {\n",
              "        vertical-align: top;\n",
              "    }\n",
              "\n",
              "    .dataframe thead th {\n",
              "        text-align: right;\n",
              "    }\n",
              "</style>\n",
              "<table border=\"1\" class=\"dataframe\">\n",
              "  <thead>\n",
              "    <tr style=\"text-align: right;\">\n",
              "      <th></th>\n",
              "      <th>sentiment</th>\n",
              "      <th>content</th>\n",
              "    </tr>\n",
              "  </thead>\n",
              "  <tbody>\n",
              "    <tr>\n",
              "      <th>0</th>\n",
              "      <td>sad</td>\n",
              "      <td>layin n bed headach ughhhh waitin call</td>\n",
              "    </tr>\n",
              "    <tr>\n",
              "      <th>1</th>\n",
              "      <td>sad</td>\n",
              "      <td>funer ceremoni gloomi friday</td>\n",
              "    </tr>\n",
              "    <tr>\n",
              "      <th>2</th>\n",
              "      <td>neutral</td>\n",
              "      <td>dannycastillo want trade someon houston ticket...</td>\n",
              "    </tr>\n",
              "    <tr>\n",
              "      <th>4</th>\n",
              "      <td>sad</td>\n",
              "      <td>sleep im think old friend want marri damn amp ...</td>\n",
              "    </tr>\n",
              "    <tr>\n",
              "      <th>6</th>\n",
              "      <td>sad</td>\n",
              "      <td>charviray charlen love miss</td>\n",
              "    </tr>\n",
              "    <tr>\n",
              "      <th>...</th>\n",
              "      <td>...</td>\n",
              "      <td>...</td>\n",
              "    </tr>\n",
              "    <tr>\n",
              "      <th>31086</th>\n",
              "      <td>neutral</td>\n",
              "      <td>jasimmo ooo show french skill lol thing good l...</td>\n",
              "    </tr>\n",
              "    <tr>\n",
              "      <th>31087</th>\n",
              "      <td>neutral</td>\n",
              "      <td>sendsom haha yeah twitter mani use know ppl care</td>\n",
              "    </tr>\n",
              "    <tr>\n",
              "      <th>31088</th>\n",
              "      <td>happy</td>\n",
              "      <td>succes follow tayla</td>\n",
              "    </tr>\n",
              "    <tr>\n",
              "      <th>31089</th>\n",
              "      <td>neutral</td>\n",
              "      <td>johnlloydtaylor</td>\n",
              "    </tr>\n",
              "    <tr>\n",
              "      <th>31090</th>\n",
              "      <td>happy</td>\n",
              "      <td>niariley wassup beauti follow peep new hit sin...</td>\n",
              "    </tr>\n",
              "  </tbody>\n",
              "</table>\n",
              "<p>19012 rows × 2 columns</p>\n",
              "</div>\n",
              "      <button class=\"colab-df-convert\" onclick=\"convertToInteractive('df-59d02eec-b8ef-4ce8-bebf-c3b090beaf47')\"\n",
              "              title=\"Convert this dataframe to an interactive table.\"\n",
              "              style=\"display:none;\">\n",
              "        \n",
              "  <svg xmlns=\"http://www.w3.org/2000/svg\" height=\"24px\"viewBox=\"0 0 24 24\"\n",
              "       width=\"24px\">\n",
              "    <path d=\"M0 0h24v24H0V0z\" fill=\"none\"/>\n",
              "    <path d=\"M18.56 5.44l.94 2.06.94-2.06 2.06-.94-2.06-.94-.94-2.06-.94 2.06-2.06.94zm-11 1L8.5 8.5l.94-2.06 2.06-.94-2.06-.94L8.5 2.5l-.94 2.06-2.06.94zm10 10l.94 2.06.94-2.06 2.06-.94-2.06-.94-.94-2.06-.94 2.06-2.06.94z\"/><path d=\"M17.41 7.96l-1.37-1.37c-.4-.4-.92-.59-1.43-.59-.52 0-1.04.2-1.43.59L10.3 9.45l-7.72 7.72c-.78.78-.78 2.05 0 2.83L4 21.41c.39.39.9.59 1.41.59.51 0 1.02-.2 1.41-.59l7.78-7.78 2.81-2.81c.8-.78.8-2.07 0-2.86zM5.41 20L4 18.59l7.72-7.72 1.47 1.35L5.41 20z\"/>\n",
              "  </svg>\n",
              "      </button>\n",
              "      \n",
              "  <style>\n",
              "    .colab-df-container {\n",
              "      display:flex;\n",
              "      flex-wrap:wrap;\n",
              "      gap: 12px;\n",
              "    }\n",
              "\n",
              "    .colab-df-convert {\n",
              "      background-color: #E8F0FE;\n",
              "      border: none;\n",
              "      border-radius: 50%;\n",
              "      cursor: pointer;\n",
              "      display: none;\n",
              "      fill: #1967D2;\n",
              "      height: 32px;\n",
              "      padding: 0 0 0 0;\n",
              "      width: 32px;\n",
              "    }\n",
              "\n",
              "    .colab-df-convert:hover {\n",
              "      background-color: #E2EBFA;\n",
              "      box-shadow: 0px 1px 2px rgba(60, 64, 67, 0.3), 0px 1px 3px 1px rgba(60, 64, 67, 0.15);\n",
              "      fill: #174EA6;\n",
              "    }\n",
              "\n",
              "    [theme=dark] .colab-df-convert {\n",
              "      background-color: #3B4455;\n",
              "      fill: #D2E3FC;\n",
              "    }\n",
              "\n",
              "    [theme=dark] .colab-df-convert:hover {\n",
              "      background-color: #434B5C;\n",
              "      box-shadow: 0px 1px 3px 1px rgba(0, 0, 0, 0.15);\n",
              "      filter: drop-shadow(0px 1px 2px rgba(0, 0, 0, 0.3));\n",
              "      fill: #FFFFFF;\n",
              "    }\n",
              "  </style>\n",
              "\n",
              "      <script>\n",
              "        const buttonEl =\n",
              "          document.querySelector('#df-59d02eec-b8ef-4ce8-bebf-c3b090beaf47 button.colab-df-convert');\n",
              "        buttonEl.style.display =\n",
              "          google.colab.kernel.accessAllowed ? 'block' : 'none';\n",
              "\n",
              "        async function convertToInteractive(key) {\n",
              "          const element = document.querySelector('#df-59d02eec-b8ef-4ce8-bebf-c3b090beaf47');\n",
              "          const dataTable =\n",
              "            await google.colab.kernel.invokeFunction('convertToInteractive',\n",
              "                                                     [key], {});\n",
              "          if (!dataTable) return;\n",
              "\n",
              "          const docLinkHtml = 'Like what you see? Visit the ' +\n",
              "            '<a target=\"_blank\" href=https://colab.research.google.com/notebooks/data_table.ipynb>data table notebook</a>'\n",
              "            + ' to learn more about interactive tables.';\n",
              "          element.innerHTML = '';\n",
              "          dataTable['output_type'] = 'display_data';\n",
              "          await google.colab.output.renderOutput(dataTable, element);\n",
              "          const docLink = document.createElement('div');\n",
              "          docLink.innerHTML = docLinkHtml;\n",
              "          element.appendChild(docLink);\n",
              "        }\n",
              "      </script>\n",
              "    </div>\n",
              "  </div>\n",
              "  "
            ]
          },
          "metadata": {},
          "execution_count": 14
        }
      ]
    },
    {
      "cell_type": "code",
      "source": [
        "from sklearn import preprocessing\n",
        "label_encoder = preprocessing.LabelEncoder()\n",
        "data['label'] = label_encoder.fit_transform(data['sentiment'])"
      ],
      "metadata": {
        "id": "l97GE0BhDVGL"
      },
      "execution_count": null,
      "outputs": []
    },
    {
      "cell_type": "code",
      "source": [
        "data"
      ],
      "metadata": {
        "colab": {
          "base_uri": "https://localhost:8080/",
          "height": 423
        },
        "id": "dm_NgE1dEABP",
        "outputId": "2c9e0af5-b5fd-4b13-fe22-c0a02308660e"
      },
      "execution_count": null,
      "outputs": [
        {
          "output_type": "execute_result",
          "data": {
            "text/plain": [
              "      sentiment                                            content  label\n",
              "0           sad             layin n bed headach ughhhh waitin call      2\n",
              "1           sad                       funer ceremoni gloomi friday      2\n",
              "2       neutral  dannycastillo want trade someon houston ticket...      1\n",
              "4           sad  sleep im think old friend want marri damn amp ...      2\n",
              "6           sad                        charviray charlen love miss      2\n",
              "...         ...                                                ...    ...\n",
              "31086   neutral  jasimmo ooo show french skill lol thing good l...      1\n",
              "31087   neutral   sendsom haha yeah twitter mani use know ppl care      1\n",
              "31088     happy                                succes follow tayla      0\n",
              "31089   neutral                                    johnlloydtaylor      1\n",
              "31090     happy  niariley wassup beauti follow peep new hit sin...      0\n",
              "\n",
              "[19012 rows x 3 columns]"
            ],
            "text/html": [
              "\n",
              "  <div id=\"df-c5be5f70-3e02-4daa-a675-ee6847697f7c\">\n",
              "    <div class=\"colab-df-container\">\n",
              "      <div>\n",
              "<style scoped>\n",
              "    .dataframe tbody tr th:only-of-type {\n",
              "        vertical-align: middle;\n",
              "    }\n",
              "\n",
              "    .dataframe tbody tr th {\n",
              "        vertical-align: top;\n",
              "    }\n",
              "\n",
              "    .dataframe thead th {\n",
              "        text-align: right;\n",
              "    }\n",
              "</style>\n",
              "<table border=\"1\" class=\"dataframe\">\n",
              "  <thead>\n",
              "    <tr style=\"text-align: right;\">\n",
              "      <th></th>\n",
              "      <th>sentiment</th>\n",
              "      <th>content</th>\n",
              "      <th>label</th>\n",
              "    </tr>\n",
              "  </thead>\n",
              "  <tbody>\n",
              "    <tr>\n",
              "      <th>0</th>\n",
              "      <td>sad</td>\n",
              "      <td>layin n bed headach ughhhh waitin call</td>\n",
              "      <td>2</td>\n",
              "    </tr>\n",
              "    <tr>\n",
              "      <th>1</th>\n",
              "      <td>sad</td>\n",
              "      <td>funer ceremoni gloomi friday</td>\n",
              "      <td>2</td>\n",
              "    </tr>\n",
              "    <tr>\n",
              "      <th>2</th>\n",
              "      <td>neutral</td>\n",
              "      <td>dannycastillo want trade someon houston ticket...</td>\n",
              "      <td>1</td>\n",
              "    </tr>\n",
              "    <tr>\n",
              "      <th>4</th>\n",
              "      <td>sad</td>\n",
              "      <td>sleep im think old friend want marri damn amp ...</td>\n",
              "      <td>2</td>\n",
              "    </tr>\n",
              "    <tr>\n",
              "      <th>6</th>\n",
              "      <td>sad</td>\n",
              "      <td>charviray charlen love miss</td>\n",
              "      <td>2</td>\n",
              "    </tr>\n",
              "    <tr>\n",
              "      <th>...</th>\n",
              "      <td>...</td>\n",
              "      <td>...</td>\n",
              "      <td>...</td>\n",
              "    </tr>\n",
              "    <tr>\n",
              "      <th>31086</th>\n",
              "      <td>neutral</td>\n",
              "      <td>jasimmo ooo show french skill lol thing good l...</td>\n",
              "      <td>1</td>\n",
              "    </tr>\n",
              "    <tr>\n",
              "      <th>31087</th>\n",
              "      <td>neutral</td>\n",
              "      <td>sendsom haha yeah twitter mani use know ppl care</td>\n",
              "      <td>1</td>\n",
              "    </tr>\n",
              "    <tr>\n",
              "      <th>31088</th>\n",
              "      <td>happy</td>\n",
              "      <td>succes follow tayla</td>\n",
              "      <td>0</td>\n",
              "    </tr>\n",
              "    <tr>\n",
              "      <th>31089</th>\n",
              "      <td>neutral</td>\n",
              "      <td>johnlloydtaylor</td>\n",
              "      <td>1</td>\n",
              "    </tr>\n",
              "    <tr>\n",
              "      <th>31090</th>\n",
              "      <td>happy</td>\n",
              "      <td>niariley wassup beauti follow peep new hit sin...</td>\n",
              "      <td>0</td>\n",
              "    </tr>\n",
              "  </tbody>\n",
              "</table>\n",
              "<p>19012 rows × 3 columns</p>\n",
              "</div>\n",
              "      <button class=\"colab-df-convert\" onclick=\"convertToInteractive('df-c5be5f70-3e02-4daa-a675-ee6847697f7c')\"\n",
              "              title=\"Convert this dataframe to an interactive table.\"\n",
              "              style=\"display:none;\">\n",
              "        \n",
              "  <svg xmlns=\"http://www.w3.org/2000/svg\" height=\"24px\"viewBox=\"0 0 24 24\"\n",
              "       width=\"24px\">\n",
              "    <path d=\"M0 0h24v24H0V0z\" fill=\"none\"/>\n",
              "    <path d=\"M18.56 5.44l.94 2.06.94-2.06 2.06-.94-2.06-.94-.94-2.06-.94 2.06-2.06.94zm-11 1L8.5 8.5l.94-2.06 2.06-.94-2.06-.94L8.5 2.5l-.94 2.06-2.06.94zm10 10l.94 2.06.94-2.06 2.06-.94-2.06-.94-.94-2.06-.94 2.06-2.06.94z\"/><path d=\"M17.41 7.96l-1.37-1.37c-.4-.4-.92-.59-1.43-.59-.52 0-1.04.2-1.43.59L10.3 9.45l-7.72 7.72c-.78.78-.78 2.05 0 2.83L4 21.41c.39.39.9.59 1.41.59.51 0 1.02-.2 1.41-.59l7.78-7.78 2.81-2.81c.8-.78.8-2.07 0-2.86zM5.41 20L4 18.59l7.72-7.72 1.47 1.35L5.41 20z\"/>\n",
              "  </svg>\n",
              "      </button>\n",
              "      \n",
              "  <style>\n",
              "    .colab-df-container {\n",
              "      display:flex;\n",
              "      flex-wrap:wrap;\n",
              "      gap: 12px;\n",
              "    }\n",
              "\n",
              "    .colab-df-convert {\n",
              "      background-color: #E8F0FE;\n",
              "      border: none;\n",
              "      border-radius: 50%;\n",
              "      cursor: pointer;\n",
              "      display: none;\n",
              "      fill: #1967D2;\n",
              "      height: 32px;\n",
              "      padding: 0 0 0 0;\n",
              "      width: 32px;\n",
              "    }\n",
              "\n",
              "    .colab-df-convert:hover {\n",
              "      background-color: #E2EBFA;\n",
              "      box-shadow: 0px 1px 2px rgba(60, 64, 67, 0.3), 0px 1px 3px 1px rgba(60, 64, 67, 0.15);\n",
              "      fill: #174EA6;\n",
              "    }\n",
              "\n",
              "    [theme=dark] .colab-df-convert {\n",
              "      background-color: #3B4455;\n",
              "      fill: #D2E3FC;\n",
              "    }\n",
              "\n",
              "    [theme=dark] .colab-df-convert:hover {\n",
              "      background-color: #434B5C;\n",
              "      box-shadow: 0px 1px 3px 1px rgba(0, 0, 0, 0.15);\n",
              "      filter: drop-shadow(0px 1px 2px rgba(0, 0, 0, 0.3));\n",
              "      fill: #FFFFFF;\n",
              "    }\n",
              "  </style>\n",
              "\n",
              "      <script>\n",
              "        const buttonEl =\n",
              "          document.querySelector('#df-c5be5f70-3e02-4daa-a675-ee6847697f7c button.colab-df-convert');\n",
              "        buttonEl.style.display =\n",
              "          google.colab.kernel.accessAllowed ? 'block' : 'none';\n",
              "\n",
              "        async function convertToInteractive(key) {\n",
              "          const element = document.querySelector('#df-c5be5f70-3e02-4daa-a675-ee6847697f7c');\n",
              "          const dataTable =\n",
              "            await google.colab.kernel.invokeFunction('convertToInteractive',\n",
              "                                                     [key], {});\n",
              "          if (!dataTable) return;\n",
              "\n",
              "          const docLinkHtml = 'Like what you see? Visit the ' +\n",
              "            '<a target=\"_blank\" href=https://colab.research.google.com/notebooks/data_table.ipynb>data table notebook</a>'\n",
              "            + ' to learn more about interactive tables.';\n",
              "          element.innerHTML = '';\n",
              "          dataTable['output_type'] = 'display_data';\n",
              "          await google.colab.output.renderOutput(dataTable, element);\n",
              "          const docLink = document.createElement('div');\n",
              "          docLink.innerHTML = docLinkHtml;\n",
              "          element.appendChild(docLink);\n",
              "        }\n",
              "      </script>\n",
              "    </div>\n",
              "  </div>\n",
              "  "
            ]
          },
          "metadata": {},
          "execution_count": 16
        }
      ]
    },
    {
      "cell_type": "code",
      "source": [
        "sorted(set(data['sentiment']))"
      ],
      "metadata": {
        "colab": {
          "base_uri": "https://localhost:8080/"
        },
        "id": "958yx-PfEC5a",
        "outputId": "533845c9-f90b-4603-844e-9e66ad0b7643"
      },
      "execution_count": null,
      "outputs": [
        {
          "output_type": "execute_result",
          "data": {
            "text/plain": [
              "['happy', 'neutral', 'sad']"
            ]
          },
          "metadata": {},
          "execution_count": 17
        }
      ]
    },
    {
      "cell_type": "code",
      "source": [
        "# Creating the Bag of Words model by applying Countvectorizer -convert textual data to numerical data\n",
        "\n",
        "\n",
        "from sklearn.feature_extraction.text import CountVectorizer\n",
        "\n",
        "cv = CountVectorizer(max_features=5000,ngram_range=(1,3))#example: the course was long-> \n",
        "#[the,the course,the course was,course, course was, course was long,...]\n",
        "cv.fit(data['content'])\n",
        "data_cv = cv.transform(data['content']).toarray()\n",
        "\n",
        "import pickle \n",
        "pickle.dump(cv, open('models/cv.pkl', 'wb'))"
      ],
      "metadata": {
        "id": "rAUlZaeTEcBZ"
      },
      "execution_count": null,
      "outputs": []
    },
    {
      "cell_type": "code",
      "source": [
        "data_cv"
      ],
      "metadata": {
        "colab": {
          "base_uri": "https://localhost:8080/"
        },
        "id": "4QY-ESUOEkIh",
        "outputId": "1ccb4953-f4d0-4165-93cf-a3448bca6b30"
      },
      "execution_count": null,
      "outputs": [
        {
          "output_type": "execute_result",
          "data": {
            "text/plain": [
              "array([[0, 0, 0, ..., 0, 0, 0],\n",
              "       [0, 0, 0, ..., 0, 0, 0],\n",
              "       [0, 0, 0, ..., 0, 0, 0],\n",
              "       ...,\n",
              "       [0, 0, 0, ..., 0, 0, 0],\n",
              "       [0, 0, 0, ..., 0, 0, 0],\n",
              "       [0, 0, 0, ..., 0, 0, 0]])"
            ]
          },
          "metadata": {},
          "execution_count": 19
        }
      ]
    },
    {
      "cell_type": "code",
      "source": [
        "from sklearn.model_selection import train_test_split\n",
        "\n",
        "X_train, X_test, y_train, y_test =train_test_split(data_cv, data['label'], test_size=0.25, random_state=42)"
      ],
      "metadata": {
        "id": "IClMj48kEnM5"
      },
      "execution_count": null,
      "outputs": []
    },
    {
      "cell_type": "code",
      "source": [
        "X_train.shape"
      ],
      "metadata": {
        "colab": {
          "base_uri": "https://localhost:8080/"
        },
        "id": "wyfXDPLoErKq",
        "outputId": "bd2048ef-1b8f-44b7-d3e3-dcbf1d64d90a"
      },
      "execution_count": null,
      "outputs": [
        {
          "output_type": "execute_result",
          "data": {
            "text/plain": [
              "(14259, 5000)"
            ]
          },
          "metadata": {},
          "execution_count": 21
        }
      ]
    },
    {
      "cell_type": "code",
      "source": [
        "print(\"class 0 : {}\".format(sum(y_train == 0)))\n",
        "print(\"class 1 : {}\".format(sum(y_train == 1)))\n",
        "print(\"class 2 : {}\".format(sum(y_train == 2)))\n",
        "\n",
        "\n",
        "from imblearn.over_sampling import SMOTE\n",
        "sm = SMOTE(random_state = 2)\n",
        "\n",
        "X_train_res, y_train_res = sm.fit_resample(X_train, y_train)\n",
        "  "
      ],
      "metadata": {
        "colab": {
          "base_uri": "https://localhost:8080/"
        },
        "id": "DxOTfolKG9Ey",
        "outputId": "e631c0ee-17d7-43d8-d61a-275c72cca775"
      },
      "execution_count": null,
      "outputs": [
        {
          "output_type": "stream",
          "name": "stdout",
          "text": [
            "class 0 : 3925\n",
            "class 1 : 6524\n",
            "class 2 : 3810\n"
          ]
        }
      ]
    },
    {
      "cell_type": "code",
      "source": [
        "print(\"class 0 : {}\".format(sum(y_train_res == 0)))\n",
        "print(\"class 1 : {}\".format(sum(y_train_res == 1)))\n",
        "print(\"class 2 : {}\".format(sum(y_train_res == 2)))"
      ],
      "metadata": {
        "colab": {
          "base_uri": "https://localhost:8080/"
        },
        "id": "Nt7_x0zWHW1A",
        "outputId": "8727444b-ea1b-41cf-dbb2-f7b0311f2fbe"
      },
      "execution_count": null,
      "outputs": [
        {
          "output_type": "stream",
          "name": "stdout",
          "text": [
            "class 0 : 6524\n",
            "class 1 : 6524\n",
            "class 2 : 6524\n"
          ]
        }
      ]
    },
    {
      "cell_type": "code",
      "source": [
        "import datetime\n",
        "from keras.callbacks import ModelCheckpoint,EarlyStopping,ReduceLROnPlateau,CSVLogger\n",
        "import tensorflow as tf\n",
        "chk_path = 'models/txt_emo.h5'\n",
        "log_dir = \"checkpoint/logs/\" + datetime.datetime.now().strftime(\"%Y%m%d-%H%M%S\")\n",
        "\n",
        "checkpoint = ModelCheckpoint(filepath=chk_path,\n",
        "                             save_best_only=True,\n",
        "                             verbose=1,\n",
        "                             mode='min',\n",
        "                             moniter='val_loss')\n",
        "\n",
        "\n",
        "                        \n",
        "reduce_lr = ReduceLROnPlateau(monitor='val_loss', \n",
        "                              factor=0.2, \n",
        "                              patience=4, \n",
        "                              verbose=1, \n",
        "                              min_delta=0.0001)\n",
        "tensorboard_callback = tf.keras.callbacks.TensorBoard(log_dir=log_dir, histogram_freq=1)\n",
        "csv_logger = CSVLogger('training.log')\n",
        "\n",
        "callbacks = [checkpoint, reduce_lr]"
      ],
      "metadata": {
        "id": "-fW7rWwLIGdL"
      },
      "execution_count": null,
      "outputs": []
    },
    {
      "cell_type": "code",
      "source": [
        "# first neural network with keras tutorial\n",
        "from tensorflow.keras.models import Sequential\n",
        "from tensorflow.keras.layers import Dense\n",
        "from tensorflow.keras import layers\n",
        "from tensorflow.keras.optimizers import SGD,Adam\n",
        "\n",
        "# load the dataset\n",
        "# split into input (X) and output (y) variables\n",
        "# define the keras model\n",
        "\n",
        "\n",
        "model = Sequential()\n",
        "model.add(Dense(12, input_shape=(X_train.shape[1],), activation='relu'))\n",
        "model.add(Dense(8, activation='relu'))\n",
        "model.add(Dense(3, activation='softmax'))\n",
        "# compile the keras model\n",
        "\n",
        "\n",
        "# model = Sequential()\n",
        "# model.add(layers.Conv2D(32, (3, 3), activation='relu', input_shape=(X_train.shape[1],1,1)))\n",
        "# model.add(layers.MaxPooling2D((2, 2)))\n",
        "# model.add(layers.Conv2D(64, (3, 3), activation='relu'))\n",
        "# model.add(layers.MaxPooling2D((2, 2)))\n",
        "# model.add(layers.Conv2D(64, (3, 3), activation='relu'))\n",
        "\n",
        "model.summary()\n",
        "\n",
        "opt = SGD(learning_rate=0.01, momentum=0.9, nesterov=True)\n",
        "model.compile(loss='sparse_categorical_crossentropy', optimizer=opt, metrics=['accuracy'])\n",
        "# fit the keras model on the dataset\n",
        "hist = model.fit(X_train_res, y_train_res,validation_data=(X_test, y_test), epochs=100, batch_size=128, callbacks=callbacks)\n",
        "# evaluate the keras model\n",
        "_, accuracy = model.evaluate(X_train, y_train)\n",
        "print('Accuracy: %.2f' % (accuracy*100))"
      ],
      "metadata": {
        "colab": {
          "base_uri": "https://localhost:8080/"
        },
        "id": "6agVzt6DEtMa",
        "outputId": "907a7469-3074-497a-f889-b9ee97c8bd71"
      },
      "execution_count": null,
      "outputs": [
        {
          "output_type": "stream",
          "name": "stdout",
          "text": [
            "Model: \"sequential\"\n",
            "_________________________________________________________________\n",
            " Layer (type)                Output Shape              Param #   \n",
            "=================================================================\n",
            " dense (Dense)               (None, 12)                60012     \n",
            "                                                                 \n",
            " dense_1 (Dense)             (None, 8)                 104       \n",
            "                                                                 \n",
            " dense_2 (Dense)             (None, 3)                 27        \n",
            "                                                                 \n",
            "=================================================================\n",
            "Total params: 60,143\n",
            "Trainable params: 60,143\n",
            "Non-trainable params: 0\n",
            "_________________________________________________________________\n",
            "Epoch 1/100\n",
            "152/153 [============================>.] - ETA: 0s - loss: 1.0907 - accuracy: 0.4072\n",
            "Epoch 1: val_loss improved from inf to 1.07437, saving model to models/txt_emo.h5\n",
            "153/153 [==============================] - 3s 14ms/step - loss: 1.0906 - accuracy: 0.4073 - val_loss: 1.0744 - val_accuracy: 0.4894 - lr: 0.0100\n",
            "Epoch 2/100\n",
            "151/153 [============================>.] - ETA: 0s - loss: 1.0531 - accuracy: 0.5133\n",
            "Epoch 2: val_loss improved from 1.07437 to 1.02135, saving model to models/txt_emo.h5\n",
            "153/153 [==============================] - 2s 10ms/step - loss: 1.0523 - accuracy: 0.5144 - val_loss: 1.0213 - val_accuracy: 0.5228 - lr: 0.0100\n",
            "Epoch 3/100\n",
            "153/153 [==============================] - ETA: 0s - loss: 0.9741 - accuracy: 0.5567\n",
            "Epoch 3: val_loss improved from 1.02135 to 0.95400, saving model to models/txt_emo.h5\n",
            "153/153 [==============================] - 2s 10ms/step - loss: 0.9741 - accuracy: 0.5567 - val_loss: 0.9540 - val_accuracy: 0.5382 - lr: 0.0100\n",
            "Epoch 4/100\n",
            "150/153 [============================>.] - ETA: 0s - loss: 0.9074 - accuracy: 0.5857\n",
            "Epoch 4: val_loss improved from 0.95400 to 0.91951, saving model to models/txt_emo.h5\n",
            "153/153 [==============================] - 2s 10ms/step - loss: 0.9082 - accuracy: 0.5853 - val_loss: 0.9195 - val_accuracy: 0.5660 - lr: 0.0100\n",
            "Epoch 5/100\n",
            "149/153 [============================>.] - ETA: 0s - loss: 0.8703 - accuracy: 0.6042\n",
            "Epoch 5: val_loss improved from 0.91951 to 0.90766, saving model to models/txt_emo.h5\n",
            "153/153 [==============================] - 1s 9ms/step - loss: 0.8695 - accuracy: 0.6045 - val_loss: 0.9077 - val_accuracy: 0.5750 - lr: 0.0100\n",
            "Epoch 6/100\n",
            "153/153 [==============================] - ETA: 0s - loss: 0.8408 - accuracy: 0.6211\n",
            "Epoch 6: val_loss did not improve from 0.90766\n",
            "153/153 [==============================] - 2s 11ms/step - loss: 0.8408 - accuracy: 0.6211 - val_loss: 0.9358 - val_accuracy: 0.5401 - lr: 0.0100\n",
            "Epoch 7/100\n",
            "152/153 [============================>.] - ETA: 0s - loss: 0.8170 - accuracy: 0.6315\n",
            "Epoch 7: val_loss did not improve from 0.90766\n",
            "153/153 [==============================] - 2s 13ms/step - loss: 0.8172 - accuracy: 0.6312 - val_loss: 0.9163 - val_accuracy: 0.5712 - lr: 0.0100\n",
            "Epoch 8/100\n",
            "150/153 [============================>.] - ETA: 0s - loss: 0.7940 - accuracy: 0.6457\n",
            "Epoch 8: val_loss did not improve from 0.90766\n",
            "153/153 [==============================] - 2s 12ms/step - loss: 0.7949 - accuracy: 0.6452 - val_loss: 0.9269 - val_accuracy: 0.5660 - lr: 0.0100\n",
            "Epoch 9/100\n",
            "150/153 [============================>.] - ETA: 0s - loss: 0.7730 - accuracy: 0.6593\n",
            "Epoch 9: val_loss did not improve from 0.90766\n",
            "\n",
            "Epoch 9: ReduceLROnPlateau reducing learning rate to 0.0019999999552965165.\n",
            "153/153 [==============================] - 1s 10ms/step - loss: 0.7731 - accuracy: 0.6593 - val_loss: 0.9519 - val_accuracy: 0.5449 - lr: 0.0100\n",
            "Epoch 10/100\n",
            "152/153 [============================>.] - ETA: 0s - loss: 0.7403 - accuracy: 0.6803\n",
            "Epoch 10: val_loss did not improve from 0.90766\n",
            "153/153 [==============================] - 1s 10ms/step - loss: 0.7401 - accuracy: 0.6805 - val_loss: 0.9369 - val_accuracy: 0.5584 - lr: 0.0020\n",
            "Epoch 11/100\n",
            "152/153 [============================>.] - ETA: 0s - loss: 0.7318 - accuracy: 0.6875\n",
            "Epoch 11: val_loss did not improve from 0.90766\n",
            "153/153 [==============================] - 1s 10ms/step - loss: 0.7318 - accuracy: 0.6873 - val_loss: 0.9410 - val_accuracy: 0.5628 - lr: 0.0020\n",
            "Epoch 12/100\n",
            "152/153 [============================>.] - ETA: 0s - loss: 0.7266 - accuracy: 0.6877\n",
            "Epoch 12: val_loss did not improve from 0.90766\n",
            "153/153 [==============================] - 1s 9ms/step - loss: 0.7264 - accuracy: 0.6875 - val_loss: 0.9477 - val_accuracy: 0.5567 - lr: 0.0020\n",
            "Epoch 13/100\n",
            "152/153 [============================>.] - ETA: 0s - loss: 0.7211 - accuracy: 0.6918\n",
            "Epoch 13: val_loss did not improve from 0.90766\n",
            "\n",
            "Epoch 13: ReduceLROnPlateau reducing learning rate to 0.0003999999724328518.\n",
            "153/153 [==============================] - 1s 10ms/step - loss: 0.7208 - accuracy: 0.6919 - val_loss: 0.9648 - val_accuracy: 0.5426 - lr: 0.0020\n",
            "Epoch 14/100\n",
            "153/153 [==============================] - ETA: 0s - loss: 0.7122 - accuracy: 0.6967\n",
            "Epoch 14: val_loss did not improve from 0.90766\n",
            "153/153 [==============================] - 1s 9ms/step - loss: 0.7122 - accuracy: 0.6967 - val_loss: 0.9581 - val_accuracy: 0.5510 - lr: 4.0000e-04\n",
            "Epoch 15/100\n",
            "153/153 [==============================] - ETA: 0s - loss: 0.7106 - accuracy: 0.6970\n",
            "Epoch 15: val_loss did not improve from 0.90766\n",
            "153/153 [==============================] - 1s 9ms/step - loss: 0.7106 - accuracy: 0.6970 - val_loss: 0.9588 - val_accuracy: 0.5519 - lr: 4.0000e-04\n",
            "Epoch 16/100\n",
            "151/153 [============================>.] - ETA: 0s - loss: 0.7098 - accuracy: 0.6984\n",
            "Epoch 16: val_loss did not improve from 0.90766\n",
            "153/153 [==============================] - 2s 13ms/step - loss: 0.7095 - accuracy: 0.6985 - val_loss: 0.9637 - val_accuracy: 0.5472 - lr: 4.0000e-04\n",
            "Epoch 17/100\n",
            "152/153 [============================>.] - ETA: 0s - loss: 0.7085 - accuracy: 0.6996\n",
            "Epoch 17: val_loss did not improve from 0.90766\n",
            "\n",
            "Epoch 17: ReduceLROnPlateau reducing learning rate to 7.999999215826393e-05.\n",
            "153/153 [==============================] - 2s 13ms/step - loss: 0.7083 - accuracy: 0.6998 - val_loss: 0.9658 - val_accuracy: 0.5462 - lr: 4.0000e-04\n",
            "Epoch 18/100\n",
            "149/153 [============================>.] - ETA: 0s - loss: 0.7072 - accuracy: 0.7008\n",
            "Epoch 18: val_loss did not improve from 0.90766\n",
            "153/153 [==============================] - 1s 9ms/step - loss: 0.7064 - accuracy: 0.7013 - val_loss: 0.9635 - val_accuracy: 0.5472 - lr: 8.0000e-05\n",
            "Epoch 19/100\n",
            "147/153 [===========================>..] - ETA: 0s - loss: 0.7069 - accuracy: 0.6991\n",
            "Epoch 19: val_loss did not improve from 0.90766\n",
            "153/153 [==============================] - 1s 9ms/step - loss: 0.7061 - accuracy: 0.7005 - val_loss: 0.9629 - val_accuracy: 0.5485 - lr: 8.0000e-05\n",
            "Epoch 20/100\n",
            "149/153 [============================>.] - ETA: 0s - loss: 0.7064 - accuracy: 0.7001\n",
            "Epoch 20: val_loss did not improve from 0.90766\n",
            "153/153 [==============================] - 1s 9ms/step - loss: 0.7059 - accuracy: 0.7005 - val_loss: 0.9633 - val_accuracy: 0.5479 - lr: 8.0000e-05\n",
            "Epoch 21/100\n",
            "149/153 [============================>.] - ETA: 0s - loss: 0.7055 - accuracy: 0.7006\n",
            "Epoch 21: val_loss did not improve from 0.90766\n",
            "\n",
            "Epoch 21: ReduceLROnPlateau reducing learning rate to 1.599999814061448e-05.\n",
            "153/153 [==============================] - 1s 10ms/step - loss: 0.7057 - accuracy: 0.7005 - val_loss: 0.9641 - val_accuracy: 0.5472 - lr: 8.0000e-05\n",
            "Epoch 22/100\n",
            "147/153 [===========================>..] - ETA: 0s - loss: 0.7044 - accuracy: 0.7023\n",
            "Epoch 22: val_loss did not improve from 0.90766\n",
            "153/153 [==============================] - 1s 9ms/step - loss: 0.7052 - accuracy: 0.7014 - val_loss: 0.9641 - val_accuracy: 0.5470 - lr: 1.6000e-05\n",
            "Epoch 23/100\n",
            "153/153 [==============================] - ETA: 0s - loss: 0.7052 - accuracy: 0.7016\n",
            "Epoch 23: val_loss did not improve from 0.90766\n",
            "153/153 [==============================] - 1s 9ms/step - loss: 0.7052 - accuracy: 0.7016 - val_loss: 0.9640 - val_accuracy: 0.5477 - lr: 1.6000e-05\n",
            "Epoch 24/100\n",
            "152/153 [============================>.] - ETA: 0s - loss: 0.7050 - accuracy: 0.7011\n",
            "Epoch 24: val_loss did not improve from 0.90766\n",
            "153/153 [==============================] - 2s 10ms/step - loss: 0.7051 - accuracy: 0.7012 - val_loss: 0.9640 - val_accuracy: 0.5472 - lr: 1.6000e-05\n",
            "Epoch 25/100\n",
            "150/153 [============================>.] - ETA: 0s - loss: 0.7054 - accuracy: 0.7011\n",
            "Epoch 25: val_loss did not improve from 0.90766\n",
            "\n",
            "Epoch 25: ReduceLROnPlateau reducing learning rate to 3.199999628122896e-06.\n",
            "153/153 [==============================] - 2s 12ms/step - loss: 0.7051 - accuracy: 0.7015 - val_loss: 0.9641 - val_accuracy: 0.5472 - lr: 1.6000e-05\n",
            "Epoch 26/100\n",
            "153/153 [==============================] - ETA: 0s - loss: 0.7050 - accuracy: 0.7016\n",
            "Epoch 26: val_loss did not improve from 0.90766\n",
            "153/153 [==============================] - 2s 14ms/step - loss: 0.7050 - accuracy: 0.7016 - val_loss: 0.9641 - val_accuracy: 0.5472 - lr: 3.2000e-06\n",
            "Epoch 27/100\n",
            "147/153 [===========================>..] - ETA: 0s - loss: 0.7042 - accuracy: 0.7021\n",
            "Epoch 27: val_loss did not improve from 0.90766\n",
            "153/153 [==============================] - 2s 11ms/step - loss: 0.7050 - accuracy: 0.7015 - val_loss: 0.9641 - val_accuracy: 0.5472 - lr: 3.2000e-06\n",
            "Epoch 28/100\n",
            "152/153 [============================>.] - ETA: 0s - loss: 0.7051 - accuracy: 0.7015\n",
            "Epoch 28: val_loss did not improve from 0.90766\n",
            "153/153 [==============================] - 2s 10ms/step - loss: 0.7050 - accuracy: 0.7015 - val_loss: 0.9641 - val_accuracy: 0.5472 - lr: 3.2000e-06\n",
            "Epoch 29/100\n",
            "149/153 [============================>.] - ETA: 0s - loss: 0.7063 - accuracy: 0.7006\n",
            "Epoch 29: val_loss did not improve from 0.90766\n",
            "\n",
            "Epoch 29: ReduceLROnPlateau reducing learning rate to 6.399999165296323e-07.\n",
            "153/153 [==============================] - 1s 9ms/step - loss: 0.7050 - accuracy: 0.7015 - val_loss: 0.9641 - val_accuracy: 0.5472 - lr: 3.2000e-06\n",
            "Epoch 30/100\n",
            "147/153 [===========================>..] - ETA: 0s - loss: 0.7042 - accuracy: 0.7011\n",
            "Epoch 30: val_loss did not improve from 0.90766\n",
            "153/153 [==============================] - 1s 10ms/step - loss: 0.7049 - accuracy: 0.7015 - val_loss: 0.9641 - val_accuracy: 0.5472 - lr: 6.4000e-07\n",
            "Epoch 31/100\n",
            "149/153 [============================>.] - ETA: 0s - loss: 0.7046 - accuracy: 0.7018\n",
            "Epoch 31: val_loss did not improve from 0.90766\n",
            "153/153 [==============================] - 1s 10ms/step - loss: 0.7049 - accuracy: 0.7015 - val_loss: 0.9641 - val_accuracy: 0.5472 - lr: 6.4000e-07\n",
            "Epoch 32/100\n",
            "149/153 [============================>.] - ETA: 0s - loss: 0.7044 - accuracy: 0.7013\n",
            "Epoch 32: val_loss did not improve from 0.90766\n",
            "153/153 [==============================] - 1s 9ms/step - loss: 0.7049 - accuracy: 0.7015 - val_loss: 0.9641 - val_accuracy: 0.5472 - lr: 6.4000e-07\n",
            "Epoch 33/100\n",
            "147/153 [===========================>..] - ETA: 0s - loss: 0.7057 - accuracy: 0.7015\n",
            "Epoch 33: val_loss did not improve from 0.90766\n",
            "\n",
            "Epoch 33: ReduceLROnPlateau reducing learning rate to 1.2799998785339995e-07.\n",
            "153/153 [==============================] - 1s 9ms/step - loss: 0.7049 - accuracy: 0.7015 - val_loss: 0.9641 - val_accuracy: 0.5472 - lr: 6.4000e-07\n",
            "Epoch 34/100\n",
            "150/153 [============================>.] - ETA: 0s - loss: 0.7056 - accuracy: 0.7014\n",
            "Epoch 34: val_loss did not improve from 0.90766\n",
            "153/153 [==============================] - 2s 12ms/step - loss: 0.7049 - accuracy: 0.7015 - val_loss: 0.9641 - val_accuracy: 0.5472 - lr: 1.2800e-07\n",
            "Epoch 35/100\n",
            "151/153 [============================>.] - ETA: 0s - loss: 0.7059 - accuracy: 0.7005\n",
            "Epoch 35: val_loss did not improve from 0.90766\n",
            "153/153 [==============================] - 2s 13ms/step - loss: 0.7049 - accuracy: 0.7015 - val_loss: 0.9641 - val_accuracy: 0.5472 - lr: 1.2800e-07\n",
            "Epoch 36/100\n",
            "152/153 [============================>.] - ETA: 0s - loss: 0.7048 - accuracy: 0.7016\n",
            "Epoch 36: val_loss did not improve from 0.90766\n",
            "153/153 [==============================] - 2s 13ms/step - loss: 0.7049 - accuracy: 0.7015 - val_loss: 0.9641 - val_accuracy: 0.5472 - lr: 1.2800e-07\n",
            "Epoch 37/100\n",
            "152/153 [============================>.] - ETA: 0s - loss: 0.7053 - accuracy: 0.7014\n",
            "Epoch 37: val_loss did not improve from 0.90766\n",
            "\n",
            "Epoch 37: ReduceLROnPlateau reducing learning rate to 2.5599996433811613e-08.\n",
            "153/153 [==============================] - 2s 10ms/step - loss: 0.7049 - accuracy: 0.7015 - val_loss: 0.9641 - val_accuracy: 0.5472 - lr: 1.2800e-07\n",
            "Epoch 38/100\n",
            "152/153 [============================>.] - ETA: 0s - loss: 0.7053 - accuracy: 0.7014\n",
            "Epoch 38: val_loss did not improve from 0.90766\n",
            "153/153 [==============================] - 2s 10ms/step - loss: 0.7049 - accuracy: 0.7015 - val_loss: 0.9641 - val_accuracy: 0.5472 - lr: 2.5600e-08\n",
            "Epoch 39/100\n",
            "150/153 [============================>.] - ETA: 0s - loss: 0.7052 - accuracy: 0.7012\n",
            "Epoch 39: val_loss did not improve from 0.90766\n",
            "153/153 [==============================] - 1s 9ms/step - loss: 0.7049 - accuracy: 0.7015 - val_loss: 0.9641 - val_accuracy: 0.5472 - lr: 2.5600e-08\n",
            "Epoch 40/100\n",
            "149/153 [============================>.] - ETA: 0s - loss: 0.7058 - accuracy: 0.7013\n",
            "Epoch 40: val_loss did not improve from 0.90766\n",
            "153/153 [==============================] - 1s 10ms/step - loss: 0.7049 - accuracy: 0.7015 - val_loss: 0.9641 - val_accuracy: 0.5472 - lr: 2.5600e-08\n",
            "Epoch 41/100\n",
            "150/153 [============================>.] - ETA: 0s - loss: 0.7051 - accuracy: 0.7014\n",
            "Epoch 41: val_loss did not improve from 0.90766\n",
            "\n",
            "Epoch 41: ReduceLROnPlateau reducing learning rate to 5.1199993578165965e-09.\n",
            "153/153 [==============================] - 1s 10ms/step - loss: 0.7049 - accuracy: 0.7015 - val_loss: 0.9641 - val_accuracy: 0.5472 - lr: 2.5600e-08\n",
            "Epoch 42/100\n",
            "151/153 [============================>.] - ETA: 0s - loss: 0.7051 - accuracy: 0.7015\n",
            "Epoch 42: val_loss did not improve from 0.90766\n",
            "153/153 [==============================] - 2s 13ms/step - loss: 0.7049 - accuracy: 0.7015 - val_loss: 0.9641 - val_accuracy: 0.5472 - lr: 5.1200e-09\n",
            "Epoch 43/100\n",
            "153/153 [==============================] - ETA: 0s - loss: 0.7049 - accuracy: 0.7015\n",
            "Epoch 43: val_loss did not improve from 0.90766\n",
            "153/153 [==============================] - 4s 27ms/step - loss: 0.7049 - accuracy: 0.7015 - val_loss: 0.9641 - val_accuracy: 0.5472 - lr: 5.1200e-09\n",
            "Epoch 44/100\n",
            "153/153 [==============================] - ETA: 0s - loss: 0.7049 - accuracy: 0.7015\n",
            "Epoch 44: val_loss did not improve from 0.90766\n",
            "153/153 [==============================] - 2s 12ms/step - loss: 0.7049 - accuracy: 0.7015 - val_loss: 0.9641 - val_accuracy: 0.5472 - lr: 5.1200e-09\n",
            "Epoch 45/100\n",
            "148/153 [============================>.] - ETA: 0s - loss: 0.7049 - accuracy: 0.7008\n",
            "Epoch 45: val_loss did not improve from 0.90766\n",
            "\n",
            "Epoch 45: ReduceLROnPlateau reducing learning rate to 1.023999907090456e-09.\n",
            "153/153 [==============================] - 2s 10ms/step - loss: 0.7049 - accuracy: 0.7015 - val_loss: 0.9641 - val_accuracy: 0.5472 - lr: 5.1200e-09\n",
            "Epoch 46/100\n",
            "151/153 [============================>.] - ETA: 0s - loss: 0.7052 - accuracy: 0.7008\n",
            "Epoch 46: val_loss did not improve from 0.90766\n",
            "153/153 [==============================] - 1s 9ms/step - loss: 0.7049 - accuracy: 0.7015 - val_loss: 0.9641 - val_accuracy: 0.5472 - lr: 1.0240e-09\n",
            "Epoch 47/100\n",
            "147/153 [===========================>..] - ETA: 0s - loss: 0.7056 - accuracy: 0.7004\n",
            "Epoch 47: val_loss did not improve from 0.90766\n",
            "153/153 [==============================] - 1s 9ms/step - loss: 0.7049 - accuracy: 0.7015 - val_loss: 0.9641 - val_accuracy: 0.5472 - lr: 1.0240e-09\n",
            "Epoch 48/100\n",
            "152/153 [============================>.] - ETA: 0s - loss: 0.7054 - accuracy: 0.7012\n",
            "Epoch 48: val_loss did not improve from 0.90766\n",
            "153/153 [==============================] - 2s 10ms/step - loss: 0.7049 - accuracy: 0.7015 - val_loss: 0.9641 - val_accuracy: 0.5472 - lr: 1.0240e-09\n",
            "Epoch 49/100\n",
            "146/153 [===========================>..] - ETA: 0s - loss: 0.7040 - accuracy: 0.7018\n",
            "Epoch 49: val_loss did not improve from 0.90766\n",
            "\n",
            "Epoch 49: ReduceLROnPlateau reducing learning rate to 2.0479997697719911e-10.\n",
            "153/153 [==============================] - 1s 10ms/step - loss: 0.7049 - accuracy: 0.7015 - val_loss: 0.9641 - val_accuracy: 0.5472 - lr: 1.0240e-09\n",
            "Epoch 50/100\n",
            "148/153 [============================>.] - ETA: 0s - loss: 0.7053 - accuracy: 0.7013\n",
            "Epoch 50: val_loss did not improve from 0.90766\n",
            "153/153 [==============================] - 1s 9ms/step - loss: 0.7049 - accuracy: 0.7015 - val_loss: 0.9641 - val_accuracy: 0.5472 - lr: 2.0480e-10\n",
            "Epoch 51/100\n",
            "153/153 [==============================] - ETA: 0s - loss: 0.7049 - accuracy: 0.7015\n",
            "Epoch 51: val_loss did not improve from 0.90766\n",
            "153/153 [==============================] - 2s 12ms/step - loss: 0.7049 - accuracy: 0.7015 - val_loss: 0.9641 - val_accuracy: 0.5472 - lr: 2.0480e-10\n",
            "Epoch 52/100\n",
            "152/153 [============================>.] - ETA: 0s - loss: 0.7052 - accuracy: 0.7012\n",
            "Epoch 52: val_loss did not improve from 0.90766\n",
            "153/153 [==============================] - 2s 13ms/step - loss: 0.7049 - accuracy: 0.7015 - val_loss: 0.9641 - val_accuracy: 0.5472 - lr: 2.0480e-10\n",
            "Epoch 53/100\n",
            "150/153 [============================>.] - ETA: 0s - loss: 0.7042 - accuracy: 0.7016\n",
            "Epoch 53: val_loss did not improve from 0.90766\n",
            "\n",
            "Epoch 53: ReduceLROnPlateau reducing learning rate to 4.095999650566285e-11.\n",
            "153/153 [==============================] - 2s 14ms/step - loss: 0.7049 - accuracy: 0.7015 - val_loss: 0.9641 - val_accuracy: 0.5472 - lr: 2.0480e-10\n",
            "Epoch 54/100\n",
            "153/153 [==============================] - ETA: 0s - loss: 0.7049 - accuracy: 0.7015\n",
            "Epoch 54: val_loss did not improve from 0.90766\n",
            "153/153 [==============================] - 1s 9ms/step - loss: 0.7049 - accuracy: 0.7015 - val_loss: 0.9641 - val_accuracy: 0.5472 - lr: 4.0960e-11\n",
            "Epoch 55/100\n",
            "152/153 [============================>.] - ETA: 0s - loss: 0.7048 - accuracy: 0.7019\n",
            "Epoch 55: val_loss did not improve from 0.90766\n",
            "153/153 [==============================] - 2s 10ms/step - loss: 0.7049 - accuracy: 0.7015 - val_loss: 0.9641 - val_accuracy: 0.5472 - lr: 4.0960e-11\n",
            "Epoch 56/100\n",
            "152/153 [============================>.] - ETA: 0s - loss: 0.7051 - accuracy: 0.7014\n",
            "Epoch 56: val_loss did not improve from 0.90766\n",
            "153/153 [==============================] - 1s 9ms/step - loss: 0.7049 - accuracy: 0.7015 - val_loss: 0.9641 - val_accuracy: 0.5472 - lr: 4.0960e-11\n",
            "Epoch 57/100\n",
            "153/153 [==============================] - ETA: 0s - loss: 0.7049 - accuracy: 0.7015\n",
            "Epoch 57: val_loss did not improve from 0.90766\n",
            "\n",
            "Epoch 57: ReduceLROnPlateau reducing learning rate to 8.19199916235469e-12.\n",
            "153/153 [==============================] - 1s 9ms/step - loss: 0.7049 - accuracy: 0.7015 - val_loss: 0.9641 - val_accuracy: 0.5472 - lr: 4.0960e-11\n",
            "Epoch 58/100\n",
            "147/153 [===========================>..] - ETA: 0s - loss: 0.7043 - accuracy: 0.7021\n",
            "Epoch 58: val_loss did not improve from 0.90766\n",
            "153/153 [==============================] - 1s 9ms/step - loss: 0.7049 - accuracy: 0.7015 - val_loss: 0.9641 - val_accuracy: 0.5472 - lr: 8.1920e-12\n",
            "Epoch 59/100\n",
            "152/153 [============================>.] - ETA: 0s - loss: 0.7048 - accuracy: 0.7013\n",
            "Epoch 59: val_loss did not improve from 0.90766\n",
            "153/153 [==============================] - 1s 9ms/step - loss: 0.7049 - accuracy: 0.7015 - val_loss: 0.9641 - val_accuracy: 0.5472 - lr: 8.1920e-12\n",
            "Epoch 60/100\n",
            "152/153 [============================>.] - ETA: 0s - loss: 0.7053 - accuracy: 0.7013\n",
            "Epoch 60: val_loss did not improve from 0.90766\n",
            "153/153 [==============================] - 2s 10ms/step - loss: 0.7049 - accuracy: 0.7015 - val_loss: 0.9641 - val_accuracy: 0.5472 - lr: 8.1920e-12\n",
            "Epoch 61/100\n",
            "149/153 [============================>.] - ETA: 0s - loss: 0.7044 - accuracy: 0.7020\n",
            "Epoch 61: val_loss did not improve from 0.90766\n",
            "\n",
            "Epoch 61: ReduceLROnPlateau reducing learning rate to 1.6383998324709382e-12.\n",
            "153/153 [==============================] - 2s 13ms/step - loss: 0.7049 - accuracy: 0.7015 - val_loss: 0.9641 - val_accuracy: 0.5472 - lr: 8.1920e-12\n",
            "Epoch 62/100\n",
            "152/153 [============================>.] - ETA: 0s - loss: 0.7047 - accuracy: 0.7018\n",
            "Epoch 62: val_loss did not improve from 0.90766\n",
            "153/153 [==============================] - 2s 14ms/step - loss: 0.7049 - accuracy: 0.7015 - val_loss: 0.9641 - val_accuracy: 0.5472 - lr: 1.6384e-12\n",
            "Epoch 63/100\n",
            "150/153 [============================>.] - ETA: 0s - loss: 0.7059 - accuracy: 0.7011\n",
            "Epoch 63: val_loss did not improve from 0.90766\n",
            "153/153 [==============================] - 2s 10ms/step - loss: 0.7049 - accuracy: 0.7015 - val_loss: 0.9641 - val_accuracy: 0.5472 - lr: 1.6384e-12\n",
            "Epoch 64/100\n",
            "147/153 [===========================>..] - ETA: 0s - loss: 0.7050 - accuracy: 0.7018\n",
            "Epoch 64: val_loss did not improve from 0.90766\n",
            "153/153 [==============================] - 1s 9ms/step - loss: 0.7049 - accuracy: 0.7015 - val_loss: 0.9641 - val_accuracy: 0.5472 - lr: 1.6384e-12\n",
            "Epoch 65/100\n",
            "150/153 [============================>.] - ETA: 0s - loss: 0.7051 - accuracy: 0.7011\n",
            "Epoch 65: val_loss did not improve from 0.90766\n",
            "\n",
            "Epoch 65: ReduceLROnPlateau reducing learning rate to 3.2767996215737895e-13.\n",
            "153/153 [==============================] - 2s 10ms/step - loss: 0.7049 - accuracy: 0.7015 - val_loss: 0.9641 - val_accuracy: 0.5472 - lr: 1.6384e-12\n",
            "Epoch 66/100\n",
            "151/153 [============================>.] - ETA: 0s - loss: 0.7050 - accuracy: 0.7017\n",
            "Epoch 66: val_loss did not improve from 0.90766\n",
            "153/153 [==============================] - 1s 9ms/step - loss: 0.7049 - accuracy: 0.7015 - val_loss: 0.9641 - val_accuracy: 0.5472 - lr: 3.2768e-13\n",
            "Epoch 67/100\n",
            "149/153 [============================>.] - ETA: 0s - loss: 0.7047 - accuracy: 0.7016\n",
            "Epoch 67: val_loss did not improve from 0.90766\n",
            "153/153 [==============================] - 1s 10ms/step - loss: 0.7049 - accuracy: 0.7015 - val_loss: 0.9641 - val_accuracy: 0.5472 - lr: 3.2768e-13\n",
            "Epoch 68/100\n",
            "148/153 [============================>.] - ETA: 0s - loss: 0.7044 - accuracy: 0.7023\n",
            "Epoch 68: val_loss did not improve from 0.90766\n",
            "153/153 [==============================] - 1s 9ms/step - loss: 0.7049 - accuracy: 0.7015 - val_loss: 0.9641 - val_accuracy: 0.5472 - lr: 3.2768e-13\n",
            "Epoch 69/100\n",
            "148/153 [============================>.] - ETA: 0s - loss: 0.7051 - accuracy: 0.7013\n",
            "Epoch 69: val_loss did not improve from 0.90766\n",
            "\n",
            "Epoch 69: ReduceLROnPlateau reducing learning rate to 6.553599351567796e-14.\n",
            "153/153 [==============================] - 2s 10ms/step - loss: 0.7049 - accuracy: 0.7015 - val_loss: 0.9641 - val_accuracy: 0.5472 - lr: 3.2768e-13\n",
            "Epoch 70/100\n",
            "153/153 [==============================] - ETA: 0s - loss: 0.7049 - accuracy: 0.7015\n",
            "Epoch 70: val_loss did not improve from 0.90766\n",
            "153/153 [==============================] - 2s 13ms/step - loss: 0.7049 - accuracy: 0.7015 - val_loss: 0.9641 - val_accuracy: 0.5472 - lr: 6.5536e-14\n",
            "Epoch 71/100\n",
            "149/153 [============================>.] - ETA: 0s - loss: 0.7040 - accuracy: 0.7019\n",
            "Epoch 71: val_loss did not improve from 0.90766\n",
            "153/153 [==============================] - 2s 13ms/step - loss: 0.7049 - accuracy: 0.7015 - val_loss: 0.9641 - val_accuracy: 0.5472 - lr: 6.5536e-14\n",
            "Epoch 72/100\n",
            "152/153 [============================>.] - ETA: 0s - loss: 0.7052 - accuracy: 0.7016\n",
            "Epoch 72: val_loss did not improve from 0.90766\n",
            "153/153 [==============================] - 2s 12ms/step - loss: 0.7049 - accuracy: 0.7015 - val_loss: 0.9641 - val_accuracy: 0.5472 - lr: 6.5536e-14\n",
            "Epoch 73/100\n",
            "152/153 [============================>.] - ETA: 0s - loss: 0.7051 - accuracy: 0.7015\n",
            "Epoch 73: val_loss did not improve from 0.90766\n",
            "\n",
            "Epoch 73: ReduceLROnPlateau reducing learning rate to 1.310719924523668e-14.\n",
            "153/153 [==============================] - 1s 9ms/step - loss: 0.7049 - accuracy: 0.7015 - val_loss: 0.9641 - val_accuracy: 0.5472 - lr: 6.5536e-14\n",
            "Epoch 74/100\n",
            "150/153 [============================>.] - ETA: 0s - loss: 0.7053 - accuracy: 0.7012\n",
            "Epoch 74: val_loss did not improve from 0.90766\n",
            "153/153 [==============================] - 2s 10ms/step - loss: 0.7049 - accuracy: 0.7015 - val_loss: 0.9641 - val_accuracy: 0.5472 - lr: 1.3107e-14\n",
            "Epoch 75/100\n",
            "149/153 [============================>.] - ETA: 0s - loss: 0.7039 - accuracy: 0.7018\n",
            "Epoch 75: val_loss did not improve from 0.90766\n",
            "153/153 [==============================] - 2s 10ms/step - loss: 0.7049 - accuracy: 0.7015 - val_loss: 0.9641 - val_accuracy: 0.5472 - lr: 1.3107e-14\n",
            "Epoch 76/100\n",
            "147/153 [===========================>..] - ETA: 0s - loss: 0.7052 - accuracy: 0.7010\n",
            "Epoch 76: val_loss did not improve from 0.90766\n",
            "153/153 [==============================] - 1s 9ms/step - loss: 0.7049 - accuracy: 0.7015 - val_loss: 0.9641 - val_accuracy: 0.5472 - lr: 1.3107e-14\n",
            "Epoch 77/100\n",
            "152/153 [============================>.] - ETA: 0s - loss: 0.7057 - accuracy: 0.7009\n",
            "Epoch 77: val_loss did not improve from 0.90766\n",
            "\n",
            "Epoch 77: ReduceLROnPlateau reducing learning rate to 2.6214399168099714e-15.\n",
            "153/153 [==============================] - 1s 9ms/step - loss: 0.7049 - accuracy: 0.7015 - val_loss: 0.9641 - val_accuracy: 0.5472 - lr: 1.3107e-14\n",
            "Epoch 78/100\n",
            "152/153 [============================>.] - ETA: 0s - loss: 0.7052 - accuracy: 0.7015\n",
            "Epoch 78: val_loss did not improve from 0.90766\n",
            "153/153 [==============================] - 2s 10ms/step - loss: 0.7049 - accuracy: 0.7015 - val_loss: 0.9641 - val_accuracy: 0.5472 - lr: 2.6214e-15\n",
            "Epoch 79/100\n",
            "149/153 [============================>.] - ETA: 0s - loss: 0.7042 - accuracy: 0.7014\n",
            "Epoch 79: val_loss did not improve from 0.90766\n",
            "153/153 [==============================] - 2s 13ms/step - loss: 0.7049 - accuracy: 0.7015 - val_loss: 0.9641 - val_accuracy: 0.5472 - lr: 2.6214e-15\n",
            "Epoch 80/100\n",
            "153/153 [==============================] - ETA: 0s - loss: 0.7049 - accuracy: 0.7015\n",
            "Epoch 80: val_loss did not improve from 0.90766\n",
            "153/153 [==============================] - 2s 14ms/step - loss: 0.7049 - accuracy: 0.7015 - val_loss: 0.9641 - val_accuracy: 0.5472 - lr: 2.6214e-15\n",
            "Epoch 81/100\n",
            "148/153 [============================>.] - ETA: 0s - loss: 0.7041 - accuracy: 0.7023\n",
            "Epoch 81: val_loss did not improve from 0.90766\n",
            "\n",
            "Epoch 81: ReduceLROnPlateau reducing learning rate to 5.242879833619943e-16.\n",
            "153/153 [==============================] - 2s 12ms/step - loss: 0.7049 - accuracy: 0.7015 - val_loss: 0.9641 - val_accuracy: 0.5472 - lr: 2.6214e-15\n",
            "Epoch 82/100\n",
            "153/153 [==============================] - ETA: 0s - loss: 0.7049 - accuracy: 0.7015\n",
            "Epoch 82: val_loss did not improve from 0.90766\n",
            "153/153 [==============================] - 2s 10ms/step - loss: 0.7049 - accuracy: 0.7015 - val_loss: 0.9641 - val_accuracy: 0.5472 - lr: 5.2429e-16\n",
            "Epoch 83/100\n",
            "148/153 [============================>.] - ETA: 0s - loss: 0.7039 - accuracy: 0.7023\n",
            "Epoch 83: val_loss did not improve from 0.90766\n",
            "153/153 [==============================] - 1s 10ms/step - loss: 0.7049 - accuracy: 0.7015 - val_loss: 0.9641 - val_accuracy: 0.5472 - lr: 5.2429e-16\n",
            "Epoch 84/100\n",
            "152/153 [============================>.] - ETA: 0s - loss: 0.7046 - accuracy: 0.7016\n",
            "Epoch 84: val_loss did not improve from 0.90766\n",
            "153/153 [==============================] - 1s 9ms/step - loss: 0.7049 - accuracy: 0.7015 - val_loss: 0.9641 - val_accuracy: 0.5472 - lr: 5.2429e-16\n",
            "Epoch 85/100\n",
            "152/153 [============================>.] - ETA: 0s - loss: 0.7048 - accuracy: 0.7016\n",
            "Epoch 85: val_loss did not improve from 0.90766\n",
            "\n",
            "Epoch 85: ReduceLROnPlateau reducing learning rate to 1.0485759667239886e-16.\n",
            "153/153 [==============================] - 2s 10ms/step - loss: 0.7049 - accuracy: 0.7015 - val_loss: 0.9641 - val_accuracy: 0.5472 - lr: 5.2429e-16\n",
            "Epoch 86/100\n",
            "151/153 [============================>.] - ETA: 0s - loss: 0.7049 - accuracy: 0.7015\n",
            "Epoch 86: val_loss did not improve from 0.90766\n",
            "153/153 [==============================] - 2s 10ms/step - loss: 0.7049 - accuracy: 0.7015 - val_loss: 0.9641 - val_accuracy: 0.5472 - lr: 1.0486e-16\n",
            "Epoch 87/100\n",
            "148/153 [============================>.] - ETA: 0s - loss: 0.7049 - accuracy: 0.7015\n",
            "Epoch 87: val_loss did not improve from 0.90766\n",
            "153/153 [==============================] - 1s 9ms/step - loss: 0.7049 - accuracy: 0.7015 - val_loss: 0.9641 - val_accuracy: 0.5472 - lr: 1.0486e-16\n",
            "Epoch 88/100\n",
            "153/153 [==============================] - ETA: 0s - loss: 0.7049 - accuracy: 0.7015\n",
            "Epoch 88: val_loss did not improve from 0.90766\n",
            "153/153 [==============================] - 2s 14ms/step - loss: 0.7049 - accuracy: 0.7015 - val_loss: 0.9641 - val_accuracy: 0.5472 - lr: 1.0486e-16\n",
            "Epoch 89/100\n",
            "150/153 [============================>.] - ETA: 0s - loss: 0.7057 - accuracy: 0.7007\n",
            "Epoch 89: val_loss did not improve from 0.90766\n",
            "\n",
            "Epoch 89: ReduceLROnPlateau reducing learning rate to 2.0971519334479774e-17.\n",
            "153/153 [==============================] - 2s 13ms/step - loss: 0.7049 - accuracy: 0.7015 - val_loss: 0.9641 - val_accuracy: 0.5472 - lr: 1.0486e-16\n",
            "Epoch 90/100\n",
            "148/153 [============================>.] - ETA: 0s - loss: 0.7049 - accuracy: 0.7018\n",
            "Epoch 90: val_loss did not improve from 0.90766\n",
            "153/153 [==============================] - 2s 11ms/step - loss: 0.7049 - accuracy: 0.7015 - val_loss: 0.9641 - val_accuracy: 0.5472 - lr: 2.0972e-17\n",
            "Epoch 91/100\n",
            "152/153 [============================>.] - ETA: 0s - loss: 0.7041 - accuracy: 0.7019\n",
            "Epoch 91: val_loss did not improve from 0.90766\n",
            "153/153 [==============================] - 2s 10ms/step - loss: 0.7049 - accuracy: 0.7015 - val_loss: 0.9641 - val_accuracy: 0.5472 - lr: 2.0972e-17\n",
            "Epoch 92/100\n",
            "148/153 [============================>.] - ETA: 0s - loss: 0.7047 - accuracy: 0.7019\n",
            "Epoch 92: val_loss did not improve from 0.90766\n",
            "153/153 [==============================] - 2s 10ms/step - loss: 0.7049 - accuracy: 0.7015 - val_loss: 0.9641 - val_accuracy: 0.5472 - lr: 2.0972e-17\n",
            "Epoch 93/100\n",
            "147/153 [===========================>..] - ETA: 0s - loss: 0.7047 - accuracy: 0.7013\n",
            "Epoch 93: val_loss did not improve from 0.90766\n",
            "\n",
            "Epoch 93: ReduceLROnPlateau reducing learning rate to 4.1943039992448526e-18.\n",
            "153/153 [==============================] - 2s 10ms/step - loss: 0.7049 - accuracy: 0.7015 - val_loss: 0.9641 - val_accuracy: 0.5472 - lr: 2.0972e-17\n",
            "Epoch 94/100\n",
            "152/153 [============================>.] - ETA: 0s - loss: 0.7051 - accuracy: 0.7014\n",
            "Epoch 94: val_loss did not improve from 0.90766\n",
            "153/153 [==============================] - 1s 9ms/step - loss: 0.7049 - accuracy: 0.7015 - val_loss: 0.9641 - val_accuracy: 0.5472 - lr: 4.1943e-18\n",
            "Epoch 95/100\n",
            "148/153 [============================>.] - ETA: 0s - loss: 0.7047 - accuracy: 0.7010\n",
            "Epoch 95: val_loss did not improve from 0.90766\n",
            "153/153 [==============================] - 1s 9ms/step - loss: 0.7049 - accuracy: 0.7015 - val_loss: 0.9641 - val_accuracy: 0.5472 - lr: 4.1943e-18\n",
            "Epoch 96/100\n",
            "151/153 [============================>.] - ETA: 0s - loss: 0.7051 - accuracy: 0.7014\n",
            "Epoch 96: val_loss did not improve from 0.90766\n",
            "153/153 [==============================] - 2s 10ms/step - loss: 0.7049 - accuracy: 0.7015 - val_loss: 0.9641 - val_accuracy: 0.5472 - lr: 4.1943e-18\n",
            "Epoch 97/100\n",
            "152/153 [============================>.] - ETA: 0s - loss: 0.7051 - accuracy: 0.7016\n",
            "Epoch 97: val_loss did not improve from 0.90766\n",
            "\n",
            "Epoch 97: ReduceLROnPlateau reducing learning rate to 8.388608163925827e-19.\n",
            "153/153 [==============================] - 2s 13ms/step - loss: 0.7049 - accuracy: 0.7015 - val_loss: 0.9641 - val_accuracy: 0.5472 - lr: 4.1943e-18\n",
            "Epoch 98/100\n",
            "152/153 [============================>.] - ETA: 0s - loss: 0.7048 - accuracy: 0.7014\n",
            "Epoch 98: val_loss did not improve from 0.90766\n",
            "153/153 [==============================] - 2s 13ms/step - loss: 0.7049 - accuracy: 0.7015 - val_loss: 0.9641 - val_accuracy: 0.5472 - lr: 8.3886e-19\n",
            "Epoch 99/100\n",
            "152/153 [============================>.] - ETA: 0s - loss: 0.7050 - accuracy: 0.7014\n",
            "Epoch 99: val_loss did not improve from 0.90766\n",
            "153/153 [==============================] - 2s 12ms/step - loss: 0.7049 - accuracy: 0.7015 - val_loss: 0.9641 - val_accuracy: 0.5472 - lr: 8.3886e-19\n",
            "Epoch 100/100\n",
            "147/153 [===========================>..] - ETA: 0s - loss: 0.7055 - accuracy: 0.7016\n",
            "Epoch 100: val_loss did not improve from 0.90766\n",
            "153/153 [==============================] - 2s 10ms/step - loss: 0.7049 - accuracy: 0.7015 - val_loss: 0.9641 - val_accuracy: 0.5472 - lr: 8.3886e-19\n",
            "446/446 [==============================] - 1s 2ms/step - loss: 0.6922 - accuracy: 0.6967\n",
            "Accuracy: 69.67\n"
          ]
        }
      ]
    },
    {
      "cell_type": "code",
      "source": [
        "import matplotlib.pyplot as plt \n",
        "plt.plot(hist.history['accuracy'],label=\"accuracy\")\n",
        "plt.plot(hist.history['val_accuracy'],label=\"val_accuracy\")\n",
        "plt.xlabel(\"Epochs\")\n",
        "plt.ylabel(\"Accuracy\")\n",
        "plt.legend()\n",
        "plt.title(\"Epochs vs Accuracy\")\n",
        "plt.show()"
      ],
      "metadata": {
        "colab": {
          "base_uri": "https://localhost:8080/",
          "height": 472
        },
        "id": "3mAbO71REyKo",
        "outputId": "6312ada6-68a0-411f-e3d5-bbfe2961a2e2"
      },
      "execution_count": null,
      "outputs": [
        {
          "output_type": "display_data",
          "data": {
            "text/plain": [
              "<Figure size 640x480 with 1 Axes>"
            ],
            "image/png": "[encoded data removed]"
          },
          "metadata": {}
        }
      ]
    },
    {
      "cell_type": "code",
      "source": [
        "import matplotlib.pyplot as plt \n",
        "plt.plot(hist.history['loss'],label=\"loss\")\n",
        "plt.plot(hist.history['val_loss'],label=\"val_loss\")\n",
        "plt.xlabel(\"Epochs\")\n",
        "plt.ylabel(\"Loss\")\n",
        "plt.legend()\n",
        "plt.title(\"Epochs vs Loss\")\n",
        "plt.show()"
      ],
      "metadata": {
        "colab": {
          "base_uri": "https://localhost:8080/",
          "height": 472
        },
        "id": "ntsKRUDJFM-B",
        "outputId": "aa3ac535-9ffe-4e36-f0ea-28c3ccceab0d"
      },
      "execution_count": null,
      "outputs": [
        {
          "output_type": "display_data",
          "data": {
            "text/plain": [
              "<Figure size 640x480 with 1 Axes>"
            ],
            "image/png": "[encoded data removed]"
          },
          "metadata": {}
        }
      ]
    },
    {
      "cell_type": "code",
      "source": [
        "pred = model.predict(X_test)"
      ],
      "metadata": {
        "colab": {
          "base_uri": "https://localhost:8080/"
        },
        "id": "r_9FnjP-FOAY",
        "outputId": "d698fd16-5c0b-4ca5-cc93-63c4a6b744df"
      },
      "execution_count": null,
      "outputs": [
        {
          "output_type": "stream",
          "name": "stdout",
          "text": [
            "149/149 [==============================] - 0s 2ms/step\n"
          ]
        }
      ]
    },
    {
      "cell_type": "code",
      "source": [
        "pred"
      ],
      "metadata": {
        "colab": {
          "base_uri": "https://localhost:8080/"
        },
        "id": "_xk_IPu-Fh9R",
        "outputId": "5a1aeedf-ac07-4203-bba2-7e6ddb5bb0a4"
      },
      "execution_count": null,
      "outputs": [
        {
          "output_type": "execute_result",
          "data": {
            "text/plain": [
              "array([[0.0381425 , 0.9500379 , 0.01181957],\n",
              "       [0.634099  , 0.20805971, 0.15784116],\n",
              "       [0.16968744, 0.5916011 , 0.2387114 ],\n",
              "       ...,\n",
              "       [0.62530106, 0.36245686, 0.01224204],\n",
              "       [0.6541118 , 0.30293682, 0.04295143],\n",
              "       [0.57287234, 0.19223069, 0.23489699]], dtype=float32)"
            ]
          },
          "metadata": {},
          "execution_count": 29
        }
      ]
    },
    {
      "cell_type": "code",
      "source": [
        "import numpy as np\n",
        "pred_class = [np.argmax(x) for x in pred]"
      ],
      "metadata": {
        "id": "Fe78wp54Floh"
      },
      "execution_count": null,
      "outputs": []
    },
    {
      "cell_type": "code",
      "source": [
        "from sklearn import metrics\n",
        "\n",
        "print('Accuracy :',metrics.accuracy_score(y_test,pred_class))"
      ],
      "metadata": {
        "colab": {
          "base_uri": "https://localhost:8080/"
        },
        "id": "05LQ9K9WF0m5",
        "outputId": "f2a354d1-68d1-4d38-ea28-7cc26597439e"
      },
      "execution_count": null,
      "outputs": [
        {
          "output_type": "stream",
          "name": "stdout",
          "text": [
            "Accuracy : 0.5472333263202188\n"
          ]
        }
      ]
    },
    {
      "cell_type": "code",
      "source": [
        "print(metrics.classification_report(y_test,pred_class))"
      ],
      "metadata": {
        "colab": {
          "base_uri": "https://localhost:8080/"
        },
        "id": "A4qKhznzF8kZ",
        "outputId": "9572d2a7-53ef-4610-ce12-1602f6764cc5"
      },
      "execution_count": null,
      "outputs": [
        {
          "output_type": "stream",
          "name": "stdout",
          "text": [
            "              precision    recall  f1-score   support\n",
            "\n",
            "           0       0.52      0.62      0.56      1284\n",
            "           1       0.58      0.48      0.53      2114\n",
            "           2       0.54      0.58      0.56      1355\n",
            "\n",
            "    accuracy                           0.55      4753\n",
            "   macro avg       0.55      0.56      0.55      4753\n",
            "weighted avg       0.55      0.55      0.55      4753\n",
            "\n"
          ]
        }
      ]
    },
    {
      "cell_type": "code",
      "source": [
        "cm = metrics.confusion_matrix(y_test, pred_class)\n",
        "\n",
        "cm_display = metrics.ConfusionMatrixDisplay(confusion_matrix = cm, display_labels = ['happy', 'neutral', 'sad'])\n",
        "fig, ax = plt.subplots(figsize=(10,10))\n",
        "cm_display.plot(ax=ax)\n",
        "plt.show()"
      ],
      "metadata": {
        "colab": {
          "base_uri": "https://localhost:8080/",
          "height": 807
        },
        "id": "3bLUxmbnF_JR",
        "outputId": "d61a4a58-ac9f-4fe9-a0da-6953861d7f71"
      },
      "execution_count": null,
      "outputs": [
        {
          "output_type": "display_data",
          "data": {
            "text/plain": [
              "<Figure size 1000x1000 with 2 Axes>"
            ],
            "image/png": "[encoded data removed]"
          },
          "metadata": {}
        }
      ]
    },
    {
      "cell_type": "markdown",
      "source": [
        "# Predict"
      ],
      "metadata": {
        "id": "KtlNVIV1MJ04"
      }
    },
    {
      "cell_type": "code",
      "source": [
        "sample = [\"I am very sad\",\"i am very happy\"]\n",
        "sample=[preprocess(x) for x in sample]"
      ],
      "metadata": {
        "id": "OzGYv-zVGH9e"
      },
      "execution_count": null,
      "outputs": []
    },
    {
      "cell_type": "code",
      "source": [
        "data_cv2 = cv.transform(sample).toarray()"
      ],
      "metadata": {
        "id": "t8EjwqJHMxsB"
      },
      "execution_count": null,
      "outputs": []
    },
    {
      "cell_type": "code",
      "source": [
        "data_cv2"
      ],
      "metadata": {
        "colab": {
          "base_uri": "https://localhost:8080/"
        },
        "id": "FpP6lF6PNBYd",
        "outputId": "a44ba56d-445f-49f2-d38d-303b6a90499d"
      },
      "execution_count": null,
      "outputs": [
        {
          "output_type": "execute_result",
          "data": {
            "text/plain": [
              "array([[0, 0, 0, ..., 0, 0, 0],\n",
              "       [0, 0, 0, ..., 0, 0, 0]])"
            ]
          },
          "metadata": {},
          "execution_count": 36
        }
      ]
    },
    {
      "cell_type": "code",
      "source": [
        "preds = model.predict(data_cv2)"
      ],
      "metadata": {
        "colab": {
          "base_uri": "https://localhost:8080/"
        },
        "id": "5i-0LPDRNDN5",
        "outputId": "e64f934a-8989-4669-e4f8-03d0f23a59c4"
      },
      "execution_count": null,
      "outputs": [
        {
          "output_type": "stream",
          "name": "stdout",
          "text": [
            "1/1 [==============================] - 0s 22ms/step\n"
          ]
        }
      ]
    },
    {
      "cell_type": "code",
      "source": [
        "preds"
      ],
      "metadata": {
        "colab": {
          "base_uri": "https://localhost:8080/"
        },
        "id": "jQJGAfWrNd59",
        "outputId": "69931ddb-e7b2-42df-b9db-0f1655d7cfda"
      },
      "execution_count": null,
      "outputs": [
        {
          "output_type": "execute_result",
          "data": {
            "text/plain": [
              "array([[0.00599866, 0.02311234, 0.970889  ],\n",
              "       [0.8712325 , 0.04250932, 0.08625823]], dtype=float32)"
            ]
          },
          "metadata": {},
          "execution_count": 38
        }
      ]
    },
    {
      "cell_type": "code",
      "source": [
        "preds_class = [np.argmax(x) for x in preds]"
      ],
      "metadata": {
        "id": "sRFEDOTiNOQr"
      },
      "execution_count": null,
      "outputs": []
    },
    {
      "cell_type": "code",
      "source": [
        "preds_class"
      ],
      "metadata": {
        "colab": {
          "base_uri": "https://localhost:8080/"
        },
        "id": "bg0cT8UMNPOj",
        "outputId": "0cd72452-e1b3-402f-85d5-2aad8696127d"
      },
      "execution_count": null,
      "outputs": [
        {
          "output_type": "execute_result",
          "data": {
            "text/plain": [
              "[2, 0]"
            ]
          },
          "metadata": {},
          "execution_count": 40
        }
      ]
    },
    {
      "cell_type": "code",
      "source": [
        "for x in preds_class:\n",
        "  print(sorted(set(data['sentiment']))[x])"
      ],
      "metadata": {
        "colab": {
          "base_uri": "https://localhost:8080/"
        },
        "id": "7hw49onjNaO_",
        "outputId": "4c59c281-47eb-4f50-f55e-3cb174fe5c49"
      },
      "execution_count": null,
      "outputs": [
        {
          "output_type": "stream",
          "name": "stdout",
          "text": [
            "sad\n",
            "happy\n"
          ]
        }
      ]
    }
  ]
}